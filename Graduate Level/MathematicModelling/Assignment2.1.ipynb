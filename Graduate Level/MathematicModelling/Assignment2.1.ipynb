{
 "cells": [
  {
   "cell_type": "markdown",
   "metadata": {},
   "source": [
    "# Assignment 2.1\n",
    "\n",
    "In this assignment, you will work on a Classical Optimization problems. Your tasks are as follows:\n",
    "\n",
    "1. **Model the Problem**: Formulate the given problem as an integer programming model. Define the decision variables, objective function, and constraints clearly.\n",
    "\n",
    "2. **Implement in PULP**: Use the PULP library in Python to implement your integer programming model. Ensure that your code is well-documented and follows best practices.\n",
    "\n",
    "3. **Validate the Solution**: Solve the model using PULP and validate the solution. Check if the solution meets all the constraints and discuss the results.\n",
    "\n",
    "Make sure to include your code and explanations in the notebook."
   ]
  },
  {
   "cell_type": "markdown",
   "metadata": {},
   "source": [
    "## Student Data\n",
    "\n",
    "- **Student Name**: ...\n",
    "- **Student ID**: ..."
   ]
  },
  {
   "cell_type": "markdown",
   "metadata": {},
   "source": [
    "## Problem Statement\n",
    "\n",
    "In this assignment, you will study an orienteering problem. The (X, Y) coordinates and score of each node are given in the file `assets/op.csv`. The node 0 is the initial depot.\n",
    "\n",
    "Your task is to study this problem and to provide a solution.\n"
   ]
  },
  {
   "cell_type": "markdown",
   "metadata": {},
   "source": [
    "## Question 1\n",
    "\n",
    "Read the CSV File and store it in a pandas dataframe"
   ]
  },
  {
   "cell_type": "code",
   "execution_count": 4,
   "metadata": {},
   "outputs": [],
   "source": [
    "# Your Code Here\n",
    "\n"
   ]
  },
  {
   "cell_type": "markdown",
   "metadata": {},
   "source": [
    "## Question 2\n",
    "\n",
    "Model the problem as a TSP and determine the minimum time required to visit **all** the node. We will denote it as $H$ in the sequel.\n",
    "\n",
    "<span style=\"color:green\"> Your Model Here"
   ]
  },
  {
   "cell_type": "code",
   "execution_count": 5,
   "metadata": {},
   "outputs": [],
   "source": [
    "# Your Code Here"
   ]
  },
  {
   "cell_type": "markdown",
   "metadata": {},
   "source": [
    "## Question 3\n",
    "\n",
    "Model the Orienteering Problem and consider a planning horizon $h=\\alpha H$, with $\\alpha\\in]0,1[$.\n",
    "\n",
    "Solve it with $\\alpha=0.8$\n",
    "\n",
    "<span style=\"color:green\"> Your Model Here"
   ]
  },
  {
   "cell_type": "code",
   "execution_count": 6,
   "metadata": {},
   "outputs": [],
   "source": [
    "# Your Code Here"
   ]
  },
  {
   "cell_type": "markdown",
   "metadata": {},
   "source": [
    "## Question 4\n",
    "\n",
    "Using your model, do a study on the impact of the parameter $\\alpha$ on the solution.\n",
    "\n",
    "Support your conclusion with figures, charts, and tables to illustrate the impact of the parameter $\\alpha$ on the solution.\n",
    "\n",
    "<span style=\"color:green\"> Your Study Here"
   ]
  },
  {
   "cell_type": "code",
   "execution_count": 7,
   "metadata": {},
   "outputs": [],
   "source": [
    "# Your Code Here"
   ]
  }
 ],
 "metadata": {
  "kernelspec": {
   "display_name": ".venv",
   "language": "python",
   "name": "python3"
  },
  "language_info": {
   "codemirror_mode": {
    "name": "ipython",
    "version": 3
   },
   "file_extension": ".py",
   "mimetype": "text/x-python",
   "name": "python",
   "nbconvert_exporter": "python",
   "pygments_lexer": "ipython3",
   "version": "3.12.3"
  }
 },
 "nbformat": 4,
 "nbformat_minor": 2
}
