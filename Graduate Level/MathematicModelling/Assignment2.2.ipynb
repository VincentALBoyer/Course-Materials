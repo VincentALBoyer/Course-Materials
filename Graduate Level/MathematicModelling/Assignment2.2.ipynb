{
 "cells": [
  {
   "cell_type": "markdown",
   "metadata": {},
   "source": [
    "# Assignment 2.2\n",
    "\n",
    "In this assignment, you will work on a Classical Optimization problems. Your tasks are as follows:\n",
    "\n",
    "1. **Model the Problem**: Formulate the given problem as an integer programming model. Define the decision variables, objective function, and constraints clearly.\n",
    "\n",
    "2. **Implement in PULP**: Use the PULP library in Python to implement your integer programming model. Ensure that your code is well-documented and follows best practices.\n",
    "\n",
    "3. **Validate the Solution**: Solve the model using PULP and validate the solution. Check if the solution meets all the constraints and discuss the results.\n",
    "\n",
    "Make sure to include your code and explanations in the notebook."
   ]
  },
  {
   "cell_type": "markdown",
   "metadata": {},
   "source": [
    "## Student Data\n",
    "\n",
    "- **Student Name**: ...\n",
    "- **Student ID**: ..."
   ]
  }
 ],
 "metadata": {
  "language_info": {
   "name": "python"
  }
 },
 "nbformat": 4,
 "nbformat_minor": 2
}
