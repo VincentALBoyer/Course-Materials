{
 "cells": [
  {
   "cell_type": "markdown",
   "metadata": {},
   "source": [
    "# Assignment 2.2\n",
    "\n",
    "In this assignment, you will work on a Classical Optimization problems. Your tasks are as follows:\n",
    "\n",
    "1. **Model the Problem**: Formulate the given problem as an integer programming model. Define the decision variables, objective function, and constraints clearly.\n",
    "\n",
    "2. **Implement in PULP**: Use the PULP library in Python to implement your integer programming model. Ensure that your code is well-documented and follows best practices.\n",
    "\n",
    "3. **Validate the Solution**: Solve the model using PULP and validate the solution. Check if the solution meets all the constraints and discuss the results.\n",
    "\n",
    "Make sure to include your code and explanations in the notebook."
   ]
  },
  {
   "cell_type": "markdown",
   "metadata": {},
   "source": [
    "## Student Data\n",
    "\n",
    "- **Student Name**: ...\n",
    "- **Student ID**: ..."
   ]
  },
  {
   "cell_type": "markdown",
   "metadata": {},
   "source": [
    "## Problem Statement\n",
    "\n",
    "You have to study a Flow Shop Scheduling Problem. In a Flow Shop Scheduling Problem, a set of jobs must be processed on a series of machines in a specific order. Each job has to go through the same sequence of machines, and the objective is to minimize the makespan. The data you will use for this problem is provided in the file `assets/FlowShop.csv`.\n",
    "\n",
    "The content of the csv file is as follows:\n",
    "\n",
    "- **Job**: The job identifier.\n",
    "- **Machine1**: Processing time on Machine 1.\n",
    "- **Machine2**: Processing time on Machine 2.\n",
    "- and so on ...\n",
    "\n",
    "All jobs follow the same sequence of machine (Machine1 $\\rightarrow$ Machine2 $\\rightarrow \\dots$ ).\n",
    "\n"
   ]
  },
  {
   "cell_type": "markdown",
   "metadata": {},
   "source": [
    "## Question 1\n",
    "\n",
    "Read the CSV File and store it in a pandas dataframe"
   ]
  },
  {
   "cell_type": "code",
   "execution_count": 22,
   "metadata": {},
   "outputs": [],
   "source": [
    "# Your Code Here"
   ]
  },
  {
   "cell_type": "markdown",
   "metadata": {},
   "source": [
    "## Question 2\n",
    "\n",
    "Propose a model for the problem\n",
    "\n",
    "<span style=\"color:green\"> Your Model Here"
   ]
  },
  {
   "cell_type": "markdown",
   "metadata": {},
   "source": [
    "## Question 3\n",
    "\n",
    "Solve your Model using PULP and retrieve the solution"
   ]
  },
  {
   "cell_type": "code",
   "execution_count": 23,
   "metadata": {},
   "outputs": [],
   "source": [
    "# Your Code Here"
   ]
  },
  {
   "cell_type": "markdown",
   "metadata": {},
   "source": [
    "## Question 4\n",
    "\n",
    "Plot a Gantt representation of your solution, startint at time &t=0$, and validate it.\n",
    "\n",
    "<span style=\"color:green\"> Explain your validation methodology here"
   ]
  },
  {
   "cell_type": "code",
   "execution_count": 24,
   "metadata": {},
   "outputs": [],
   "source": [
    "# Your Code Here"
   ]
  },
  {
   "cell_type": "markdown",
   "metadata": {},
   "source": [
    "## Question 5\n",
    "\n",
    "Machine 2 is a very special machine and needs regular maintenance operation. When it is tuned on at time $t=0$, it needs to be turned off every 5 unit of time for servicing during 1 unit of time.\n",
    "\n",
    "Explain how you have to modify your model and determine the new makespan under this condition.\n",
    "\n",
    "<span style=\"color:green\"> Your Model Here"
   ]
  },
  {
   "cell_type": "code",
   "execution_count": 25,
   "metadata": {},
   "outputs": [],
   "source": [
    "# Your Code Here"
   ]
  }
 ],
 "metadata": {
  "kernelspec": {
   "display_name": ".venv",
   "language": "python",
   "name": "python3"
  },
  "language_info": {
   "codemirror_mode": {
    "name": "ipython",
    "version": 3
   },
   "file_extension": ".py",
   "mimetype": "text/x-python",
   "name": "python",
   "nbconvert_exporter": "python",
   "pygments_lexer": "ipython3",
   "version": "3.13.2"
  }
 },
 "nbformat": 4,
 "nbformat_minor": 2
}
