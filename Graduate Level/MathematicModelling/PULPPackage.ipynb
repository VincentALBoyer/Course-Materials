{
 "cells": [
  {
   "cell_type": "markdown",
   "metadata": {},
   "source": [
    "# Introduction to the PULP Package\n",
    "\n",
    "This notebook is designed for teaching purposes and provides an introduction to the PULP package. PULP is a linear programming (LP) modeler written in Python. It allows you to create mathematical models for optimization problems and solve them using various solvers.\n",
    "\n",
    "For more information, visit the [PULP project webpage](https://coin-or.github.io/pulp/).\n",
    "\n",
    "## Agenda\n",
    "1. Introduction to Linear and Integer Programming\n",
    "2. Modeling a Simple Problem\n",
    "3. Calling the Solver\n",
    "4. Retrieving the Solution\n",
    "5. Validation of the Solution"
   ]
  },
  {
   "cell_type": "markdown",
   "metadata": {},
   "source": [
    "## Setting the environment\n",
    "To get started, we need to set up our environment by installing and importing the necessary packages. In this case, we will be using the PULP package for linear programming. Ensure you have PULP installed in your Python environment. If not, you can install it using `pip install pulp`."
   ]
  },
  {
   "cell_type": "code",
   "execution_count": null,
   "metadata": {
    "vscode": {
     "languageId": "plaintext"
    }
   },
   "outputs": [],
   "source": [
    "%pip install pulp\n",
    "%pip install matplotlib as plt\n",
    "\n",
    "import "
   ]
  }
 ],
 "metadata": {
  "language_info": {
   "name": "python"
  }
 },
 "nbformat": 4,
 "nbformat_minor": 2
}
