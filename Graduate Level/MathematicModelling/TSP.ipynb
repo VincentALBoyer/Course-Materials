{
 "cells": [
  {
   "cell_type": "markdown",
   "metadata": {},
   "source": [
    "# The Travelling Salesman Problem\n",
    "\n",
    "## Description\n",
    "\n",
    "The Travelling Salesman Problem (TSP) is a classic algorithmic problem in the fields of computer science and operations research. It focuses on optimization. In this problem, a salesman is given a list of cities and must determine the shortest possible route that visits each city exactly once and returns to the origin city. The challenge is to find the most efficient route among the possible permutations of cities. TSP has applications in logistics, planning, and the manufacturing of microchips. It is an NP-hard problem, meaning that there is no known efficient way to solve it for large numbers of cities.\n",
    "\n",
    "## Definition\n",
    "\n",
    "### General Model\n",
    "\n",
    "Given a set of cities and the distances between each pair of cities, the goal is to find the shortest possible tour that visits each city exactly once and returns to the starting city.\n",
    "\n",
    "Mathematically, the problem can be formulated as follows:\n",
    "\n",
    "- Let $C$ be a set of $n$ cities.\n",
    "- Let $d(i, j)$ be the distance between city $i$ and city $j$.\n",
    "\n",
    "The objective is to find a permutation $\\pi$ of $C$ that minimizes the total tour length:\n",
    "\n",
    "$$ \\text{Minimize} \\sum_{i=1}^{n-1} d(\\pi(i), \\pi(i+1)) + d(\\pi(n), \\pi(1)) $$\n",
    "\n",
    "where $\\pi(i)$ represents the $i$-th city in the permutation.\n",
    "\n",
    "### Model based on Graph Representation\n",
    "\n",
    "The Travelling Salesman Problem can also be represented using graph theory. In this representation:\n",
    "\n",
    "- Each city is represented as a vertex.\n",
    "- Each pair of cities is connected by an edge.\n",
    "- The weight of an edge represents the distance between the two cities.\n",
    "\n",
    "Formally, let $G = (V, E)$ be a complete graph where:\n",
    "- $V$ is the set of vertices representing the cities.\n",
    "- $E$ is the set of edges representing the paths between the cities.\n",
    "- $w: E \\rightarrow \\mathbb{R}^+$ is a weight function that assigns a positive real number to each edge, representing the distance between the cities.\n",
    "\n",
    "The objective is to find a Hamiltonian cycle (a cycle that visits each vertex exactly once and returns to the starting vertex) with the minimum total weight.\n",
    "\n",
    "Mathematically, the problem can be formulated as:\n",
    "\n",
    "$$ \\text{Minimize} \\sum_{(u,v) \\in E} w(u,v) \\cdot x_{uv} $$\n",
    "\n",
    "subject to:\n",
    "\n",
    "1. Each vertex is visited exactly once:\n",
    "    $$ \\sum_{v \\in V} x_{uv} = 1 \\quad \\forall u \\in V $$\n",
    "    $$ \\sum_{u \\in V} x_{uv} = 1 \\quad \\forall v \\in V $$\n",
    "\n",
    "2. Subtour elimination constraints to ensure a single tour:\n",
    "    $$ \\sum_{(u,v) \\in S} x_{uv} \\leq |S| - 1 \\quad \\forall S \\subset V, 2 \\leq |S| \\leq |V| - 1 $$\n",
    "\n",
    "3. Nature of the variables:\n",
    "    $$ x_{uv} \\in \\{0, 1\\} \\quad \\forall (u,v) \\in E $$\n",
    "\n",
    "where $x_{uv}$ is a binary variable that is 1 if the edge $(u,v)$ is included in the tour and 0 otherwise.\n",
    "\n",
    "## A Word on Subtour Elimination Constraints\n",
    "\n",
    "Subtour elimination constraints are necessary to ensure that the solution to the Travelling Salesman Problem (TSP) forms a single tour that visits each city exactly once and returns to the starting city. Without these constraints, the solution might consist of multiple disconnected subtours, which do not satisfy the requirements of the TSP.\n",
    "\n",
    "### Why Subtour Elimination Constraints are Needed\n",
    "\n",
    "In the context of the TSP, a subtour is a smaller tour that visits a subset of cities but does not include all cities or return to the starting city. Subtour elimination constraints prevent these smaller tours from forming by ensuring that any subset of cities does not form a closed loop unless it includes all cities.\n",
    "\n",
    "### Alternatives to Subtour Elimination Constraints\n",
    "\n",
    "1. **Miller-Tucker-Zemlin (MTZ) Constraints**: These constraints introduce additional variables to keep track of the order in which cities are visited. They are simpler to implement but can be less efficient for larger instances of the TSP.\n",
    "\n",
    "2. **Flow-based Formulations**: These formulations use flow variables to model the movement between cities, ensuring that the flow is consistent with a single tour. This approach can be more complex but may provide tighter formulations.\n",
    "\n",
    "3. **Cutting Plane Methods**: These methods iteratively add subtour elimination constraints as needed during the solution process. This approach can be more efficient as it avoids adding all possible constraints upfront.\n",
    "\n",
    "Each of these alternatives has its own advantages and trade-offs in terms of complexity, computational efficiency, and ease of implementation.\n"
   ]
  },
  {
   "cell_type": "markdown",
   "metadata": {},
   "source": [
    "## An Illustrative Example\n",
    "\n",
    "We will explore an example of the Travelling Salesman Problem (TSP) using a dataset stored in \"assets/TSP.csv\". This CSV file contains the following columns:\n",
    "\n",
    "- `City`: The name of the city.\n",
    "- `X`: The x-coordinate of the city.\n",
    "- `Y`: The y-coordinate of the city.\n",
    "\n",
    "These coordinates represent the positions of the cities on a 2D plane, and the goal is to find the shortest possible route that visits each city exactly once and returns to the origin city.\n",
    "\n",
    "We will use a graph representation to model this problem"
   ]
  },
  {
   "cell_type": "markdown",
   "metadata": {},
   "source": [
    "### Setiing the Environment"
   ]
  },
  {
   "cell_type": "code",
   "execution_count": null,
   "metadata": {},
   "outputs": [],
   "source": [
    "%pip install pulp matplotlib pandas\n",
    "\n",
    "import pandas as pd\n",
    "import matplotlib.pyplot as plt\n",
    "import pulp as pl"
   ]
  }
 ],
 "metadata": {
  "kernelspec": {
   "display_name": ".venv",
   "language": "python",
   "name": "python3"
  },
  "language_info": {
   "codemirror_mode": {
    "name": "ipython",
    "version": 3
   },
   "file_extension": ".py",
   "mimetype": "text/x-python",
   "name": "python",
   "nbconvert_exporter": "python",
   "pygments_lexer": "ipython3",
   "version": "3.13.2"
  }
 },
 "nbformat": 4,
 "nbformat_minor": 2
}
