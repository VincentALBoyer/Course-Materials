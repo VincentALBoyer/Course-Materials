{
 "cells": [
  {
   "cell_type": "markdown",
   "metadata": {},
   "source": [
    "# Assignment 1.1\n",
    "\n",
    "In this assignment, you will work on Linear Programming problems. You will be given different modeling exercises. For each exercise, you need to:\n",
    "\n",
    "1. **Model the problem**: Write the mathematical formulation of the Linear Programming problem in markdown.\n",
    "2. **Solve the problem using PULP**: Implement the model in Python using the PULP library and solve it.\n",
    "3. **Validate the result**: Verify the solution obtained from PULP and ensure it satisfies all the constraints of the problem."
   ]
  },
  {
   "cell_type": "markdown",
   "metadata": {},
   "source": [
    "## Student Data\n",
    "\n",
    "- **Student Name**: ...\n",
    "- **Student ID**: ..."
   ]
  },
  {
   "cell_type": "markdown",
   "metadata": {},
   "source": [
    "## Exercise 1\n",
    "\n",
    "### Problem Statement\n",
    "\n",
    "A company produces two types of products, P1 and P2. The production of each product requires different amounts of resources. The company has a limited amount of resources available. The goal is to determine the optimal production quantities of P1 and P2 that maximize the company's profit.\n",
    "\n",
    "#### Data:\n",
    "- Profit per unit of P1: $40\n",
    "- Profit per unit of P2: $30\n",
    "- Resource 1 required per unit of P1: 2 units\n",
    "- Resource 1 required per unit of P2: 1 unit\n",
    "- Resource 2 required per unit of P1: 1 unit\n",
    "- Resource 2 required per unit of P2: 2 units\n",
    "- Total available Resource 1: 100 units\n",
    "- Total available Resource 2: 80 units\n"
   ]
  },
  {
   "cell_type": "markdown",
   "metadata": {},
   "source": [
    "### Model\n",
    "\n",
    "```python\n",
    "# Your Model Here (Decision Variables, Objective, Constraints)\n",
    "```"
   ]
  },
  {
   "cell_type": "markdown",
   "metadata": {},
   "source": [
    "### Implementation"
   ]
  },
  {
   "cell_type": "code",
   "execution_count": 1,
   "metadata": {},
   "outputs": [],
   "source": [
    "# Your Code Here"
   ]
  },
  {
   "cell_type": "markdown",
   "metadata": {},
   "source": [
    "### Solution\n",
    "\n",
    "<span style=\"color:green\"> Your Solution Validation and Your Solution Analysis Here\n"
   ]
  },
  {
   "cell_type": "markdown",
   "metadata": {},
   "source": [
    "## Exercise 2\n",
    "\n",
    "### Problem Statement\n",
    "\n",
    "A factory manufactures two products, A and B. Each product requires different amounts of labor and materials. The factory has a limited amount of labor hours and materials available. The objective is to determine the optimal production quantities of A and B that maximize the factory's profit.\n",
    "\n",
    "#### Data:\n",
    "- Profit per unit of A: $50\n",
    "- Profit per unit of B: $60\n",
    "- Labor hours required per unit of A: 3 hours\n",
    "- Labor hours required per unit of B: 2 hours\n",
    "- Material required per unit of A: 4 units\n",
    "- Material required per unit of B: 5 units\n",
    "- Total available labor hours: 180 hours\n",
    "- Total available materials: 200 units"
   ]
  },
  {
   "cell_type": "markdown",
   "metadata": {},
   "source": [
    "### Model\n",
    "\n",
    "<span style=\"color:green\"> Your Model Here (Decision Variables, Objective, Constraints)\n"
   ]
  },
  {
   "cell_type": "markdown",
   "metadata": {},
   "source": [
    "### Implementation"
   ]
  },
  {
   "cell_type": "code",
   "execution_count": 2,
   "metadata": {},
   "outputs": [],
   "source": [
    "# Your Code Here"
   ]
  },
  {
   "cell_type": "markdown",
   "metadata": {},
   "source": [
    "### Solution\n",
    "\n",
    "<span style=\"color:green\"> Your Solution Validation and Your Solution Analysis Here\n"
   ]
  },
  {
   "cell_type": "markdown",
   "metadata": {},
   "source": [
    "## Exercise 3\n",
    "\n",
    "### Problem Statement\n",
    "\n",
    "A farmer has a limited amount of land and water available to grow two types of crops, C1 and C2. Each crop requires different amounts of land and water. The objective is to determine the optimal planting area for each crop that maximizes the farmer's profit.\n",
    "\n",
    "#### Data:\n",
    "- Profit per unit area of C1: $70\n",
    "- Profit per unit area of C2: $50\n",
    "- Land required per unit area of C1: 1 unit\n",
    "- Land required per unit area of C2: 2 units\n",
    "- Water required per unit area of C1: 3 units\n",
    "- Water required per unit area of C2: 2 units\n",
    "- Total available land: 150 units\n",
    "- Total available water: 300 units"
   ]
  },
  {
   "cell_type": "markdown",
   "metadata": {},
   "source": [
    "### Model\n",
    "\n",
    "<span style=\"color:green\"> Your Model Here (Decision Variables, Objective, Constraints)\n"
   ]
  },
  {
   "cell_type": "markdown",
   "metadata": {},
   "source": [
    "### Implementation"
   ]
  },
  {
   "cell_type": "code",
   "execution_count": 3,
   "metadata": {},
   "outputs": [],
   "source": [
    "# Your Code Here"
   ]
  },
  {
   "cell_type": "markdown",
   "metadata": {},
   "source": [
    "### Solution\n",
    "\n",
    "<span style=\"color:green\"> Your Solution Validation and Your Solution Analysis Here\n"
   ]
  }
 ],
 "metadata": {
  "kernelspec": {
   "display_name": ".venv",
   "language": "python",
   "name": "python3"
  },
  "language_info": {
   "codemirror_mode": {
    "name": "ipython",
    "version": 3
   },
   "file_extension": ".py",
   "mimetype": "text/x-python",
   "name": "python",
   "nbconvert_exporter": "python",
   "pygments_lexer": "ipython3",
   "version": "3.12.3"
  }
 },
 "nbformat": 4,
 "nbformat_minor": 2
}
