{
 "cells": [
  {
   "cell_type": "markdown",
   "metadata": {},
   "source": [
    "# Assignment 1.2\n",
    "\n",
    "In this assignment, you will be given an integer programming problem. Your tasks are as follows:\n",
    "\n",
    "1. **Model the Problem**: Formulate the given problem as an integer programming model. Define the decision variables, objective function, and constraints clearly.\n",
    "\n",
    "2. **Implement in PULP**: Use the PULP library in Python to implement your integer programming model. Ensure that your code is well-documented and follows best practices.\n",
    "\n",
    "3. **Validate the Solution**: Solve the model using PULP and validate the solution. Check if the solution meets all the constraints and discuss the results.\n",
    "\n",
    "Make sure to include your code and explanations in the notebook."
   ]
  },
  {
   "cell_type": "markdown",
   "metadata": {},
   "source": [
    "## Student Data\n",
    "\n",
    "- **Student Name**: ...\n",
    "- **Student ID**: ..."
   ]
  },
  {
   "cell_type": "markdown",
   "metadata": {},
   "source": [
    "## Problem Statement\n",
    "\n",
    "A university is organizing a student exchange program and needs to assign students to different universities abroad. Each student has preferences for certain universities, and each university has a limited number of available slots. Additionally, the university wants to ensure a balanced distribution of students across different countries while minimizing dissatisfaction.\n",
    "\n",
    "We have a total of 20 students (Student_1, Student_2, ..., \\student_20) and 4 Universities (University_A, University_B, University_C, and University_D).\n",
    "\n",
    "The preference for each student is given in the following:\n",
    "\n",
    "- Student_1: ['University_D', 'University_A', 'University_B']\n",
    "- Student_2: ['University_D', 'University_A', 'University_B']\n",
    "- Student_3: ['University_B', 'University_D', 'University_A']\n",
    "- Student_4: ['University_D', 'University_B', 'University_C']\n",
    "- Student_5: ['University_D', 'University_B', 'University_C']\n",
    "- Student_6: ['University_C', 'University_A', 'University_D']\n",
    "- Student_7: ['University_C', 'University_B', 'University_A']\n",
    "- Student_8: ['University_C', 'University_D', 'University_A']\n",
    "- Student_9: ['University_D', 'University_C', 'University_B']\n",
    "- Student_10: ['University_B', 'University_A', 'University_D']\n",
    "- Student_11: ['University_D', 'University_A', 'University_C']\n",
    "- Student_12: ['University_B', 'University_A', 'University_D']\n",
    "- Student_13: ['University_C', 'University_B', 'University_D']\n",
    "- Student_14: ['University_C', 'University_B', 'University_A']\n",
    "- Student_15: ['University_D', 'University_A', 'University_B']\n",
    "- Student_16: ['University_C', 'University_B', 'University_D']\n",
    "- Student_17: ['University_C', 'University_D', 'University_B']\n",
    "- Student_18: ['University_B', 'University_D', 'University_A']\n",
    "- Student_19: ['University_C', 'University_B', 'University_D']\n",
    "- Student_20: ['University_D', 'University_A', 'University_C']\n",
    "\n",
    "The available slots at each university are:\n",
    "- University_A: 5\n",
    "- University_B: 5\n",
    "- University_C: 5\n",
    "- University_D: 5\n",
    "\n",
    "## Instruction\n",
    "\n",
    "1. **Propose a Model**: Formulate the problem as an integer programming model. Define the decision variables, objective function, and constraints clearly.\n",
    "\n",
    "2. **Solve with PULP**: Implement the integer programming model using the PULP library in Python. Ensure that your code is well-documented and follows best practices. Solve the model to find the optimal assignment of students to universities.\n",
    "\n",
    "3. **Analyze the Solution**: Validate the solution obtained from PULP. Check if the solution meets all the constraints (e.g., each university's slot limit and balanced distribution). Discuss the results, including the total dissatisfaction and how well the students' preferences were satisfied.\n",
    "\n",
    "4. **Altering the Problem**: Imagine that the slots available at each university is only 3. Can your model handle this case?\n"
   ]
  },
  {
   "cell_type": "markdown",
   "metadata": {},
   "source": [
    "## Model\n",
    "Formulate the problem as an integer programming model. Define the decision variables, objective function, and constraints clearly.</span>\n",
    "\n",
    "\n",
    "\n",
    "<span style=\"color:green\"> Your model here\n"
   ]
  },
  {
   "cell_type": "markdown",
   "metadata": {},
   "source": [
    "## Implementation\n",
    "\n",
    "Implement the integer programming model using the PULP library in Python. Ensure that your code is well-documented and follows best practices. Solve the model to find the optimal assignment of students to universities."
   ]
  },
  {
   "cell_type": "code",
   "execution_count": 1,
   "metadata": {},
   "outputs": [],
   "source": [
    "# Your Code Here"
   ]
  },
  {
   "cell_type": "markdown",
   "metadata": {},
   "source": [
    "## Solution\n",
    "\n",
    "Validate the solution obtained from PULP. Check if the solution meets all the constraints (e.g., each university's slot limit and balanced distribution). Discuss the results, including the total dissatisfaction and how well the students' preferences were satisfied.\n",
    "\n",
    "<span style=\"color:green\"> Your solution validation here\n",
    "\n"
   ]
  },
  {
   "cell_type": "code",
   "execution_count": 2,
   "metadata": {},
   "outputs": [],
   "source": [
    "# Your Code Here"
   ]
  },
  {
   "cell_type": "markdown",
   "metadata": {},
   "source": [
    "## Altering the Data\n",
    "\n",
    "Imagine that the slots availableat each university is only 3. Discuss the different solutions you can offer and propose a solution.\n",
    "\n",
    "<span style=\"color:green\"> Your proposal here\n"
   ]
  },
  {
   "cell_type": "code",
   "execution_count": 3,
   "metadata": {},
   "outputs": [],
   "source": [
    "# Your Code Here"
   ]
  }
 ],
 "metadata": {
  "kernelspec": {
   "display_name": ".venv",
   "language": "python",
   "name": "python3"
  },
  "language_info": {
   "codemirror_mode": {
    "name": "ipython",
    "version": 3
   },
   "file_extension": ".py",
   "mimetype": "text/x-python",
   "name": "python",
   "nbconvert_exporter": "python",
   "pygments_lexer": "ipython3",
   "version": "3.12.3"
  }
 },
 "nbformat": 4,
 "nbformat_minor": 2
}
