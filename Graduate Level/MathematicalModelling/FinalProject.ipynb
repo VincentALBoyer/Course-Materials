{
 "cells": [
  {
   "cell_type": "markdown",
   "metadata": {},
   "source": [
    "# Final Project\n",
    "\n",
    "You are now an experienced **Operations Research Analyst**. You have to implement and test a model from a scientific article (provided by the teacher). Your task involves understanding the problem described in the article, studying the presented mathematical model, and then coding this model using appropriate software tools. You will also need to validate your model by comparing its results with the data or results provided in the article. Finally, you will document your process, findings, and any challenges you encountered during the project.\n",
    "\n",
    "## Steps to Follow\n",
    "\n",
    "1. **Understand the Problem**: Carefully read the scientific article provided by the teacher. Make sure you understand the problem being addressed and the context in which it is presented.\n",
    "\n",
    "2. **Study the Mathematical Model**: Analyze the mathematical model described in the article. Pay attention to the assumptions, variables, constraints, and objectives.\n",
    "\n",
    "3. **Implement the Model**: Write the code to implement the mathematical model using appropriate software tools. Ensure your code is well-documented and follows best practices.\n",
    "\n",
    "4. **Validate the Model**: Compare the results of your model with the data or results provided in the article. Discuss any discrepancies and possible reasons for them.\n",
    "\n",
    "5. **Document Your Process**: Write a detailed report documenting your process, findings, and any challenges you encountered. Include explanations of your code, validation results, and any assumptions or simplifications you made.\n",
    "\n",
    "6. **Write Your Analysis and Code Below**: Use the cells below to write your analysis and code. Ensure your notebook is well-organized and easy to follow."
   ]
  },
  {
   "cell_type": "markdown",
   "metadata": {},
   "source": [
    "## Student Data\n",
    "\n",
    "- **Student Name**: ...\n",
    "- **Student ID**: ...\n",
    "- **Article Reference Link**:"
   ]
  },
  {
   "cell_type": "code",
   "execution_count": null,
   "metadata": {},
   "outputs": [],
   "source": [
    "# Your Report and Code ..."
   ]
  }
 ],
 "metadata": {
  "kernelspec": {
   "display_name": ".venv",
   "language": "python",
   "name": "python3"
  },
  "language_info": {
   "name": "python",
   "version": "3.13.2"
  }
 },
 "nbformat": 4,
 "nbformat_minor": 2
}
