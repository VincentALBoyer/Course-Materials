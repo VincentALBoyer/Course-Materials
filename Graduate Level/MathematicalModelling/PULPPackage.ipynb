{
 "cells": [
  {
   "cell_type": "markdown",
   "metadata": {},
   "source": [
    "# Introduction to the PULP Package\n",
    "\n",
    "This notebook is designed for teaching purposes and provides an introduction to the PULP package. PULP is a linear programming (LP) modeler written in Python. It allows you to create mathematical models for optimization problems and solve them using various solvers.\n",
    "\n",
    "For more information, visit the [PULP project webpage](https://coin-or.github.io/pulp/).\n",
    "\n",
    "## Agenda\n",
    "1. Introduction to Linear and Integer Programming\n",
    "2. Modeling a Simple Problem\n",
    "3. Calling the Solver\n",
    "4. Retrieving the Solution\n",
    "5. Validation of the Solution"
   ]
  },
  {
   "cell_type": "markdown",
   "metadata": {},
   "source": [
    "## Setting the environment\n",
    "To get started, we need to set up our environment by installing and importing the necessary packages. In this case, we will be using the PULP package for linear programming. Ensure you have PULP installed in your Python environment. If not, you can install it using `pip install pulp`.\n",
    "\n",
    "The first run may take some time as it will install any missing packages."
   ]
  },
  {
   "cell_type": "code",
   "execution_count": 55,
   "metadata": {},
   "outputs": [
    {
     "name": "stdout",
     "output_type": "stream",
     "text": [
      "Defaulting to user installation because normal site-packages is not writeable\n",
      "Requirement already satisfied: pulp in c:\\users\\vince\\appdata\\local\\packages\\pythonsoftwarefoundation.python.3.13_qbz5n2kfra8p0\\localcache\\local-packages\\python313\\site-packages (2.9.0)\n",
      "Note: you may need to restart the kernel to use updated packages.\n"
     ]
    },
    {
     "name": "stderr",
     "output_type": "stream",
     "text": [
      "\n",
      "[notice] A new release of pip is available: 24.3.1 -> 25.0.1\n",
      "[notice] To update, run: C:\\Users\\vince\\AppData\\Local\\Microsoft\\WindowsApps\\PythonSoftwareFoundation.Python.3.13_qbz5n2kfra8p0\\python.exe -m pip install --upgrade pip\n"
     ]
    },
    {
     "name": "stdout",
     "output_type": "stream",
     "text": [
      "Defaulting to user installation because normal site-packages is not writeable\n",
      "Requirement already satisfied: matplotlib in c:\\users\\vince\\appdata\\local\\packages\\pythonsoftwarefoundation.python.3.13_qbz5n2kfra8p0\\localcache\\local-packages\\python313\\site-packages (3.10.0)\n",
      "Requirement already satisfied: contourpy>=1.0.1 in c:\\users\\vince\\appdata\\local\\packages\\pythonsoftwarefoundation.python.3.13_qbz5n2kfra8p0\\localcache\\local-packages\\python313\\site-packages (from matplotlib) (1.3.1)\n",
      "Requirement already satisfied: cycler>=0.10 in c:\\users\\vince\\appdata\\local\\packages\\pythonsoftwarefoundation.python.3.13_qbz5n2kfra8p0\\localcache\\local-packages\\python313\\site-packages (from matplotlib) (0.12.1)\n",
      "Requirement already satisfied: fonttools>=4.22.0 in c:\\users\\vince\\appdata\\local\\packages\\pythonsoftwarefoundation.python.3.13_qbz5n2kfra8p0\\localcache\\local-packages\\python313\\site-packages (from matplotlib) (4.56.0)\n",
      "Requirement already satisfied: kiwisolver>=1.3.1 in c:\\users\\vince\\appdata\\local\\packages\\pythonsoftwarefoundation.python.3.13_qbz5n2kfra8p0\\localcache\\local-packages\\python313\\site-packages (from matplotlib) (1.4.8)\n",
      "Requirement already satisfied: numpy>=1.23 in c:\\users\\vince\\appdata\\local\\packages\\pythonsoftwarefoundation.python.3.13_qbz5n2kfra8p0\\localcache\\local-packages\\python313\\site-packages (from matplotlib) (2.2.2)\n",
      "Requirement already satisfied: packaging>=20.0 in c:\\users\\vince\\appdata\\local\\packages\\pythonsoftwarefoundation.python.3.13_qbz5n2kfra8p0\\localcache\\local-packages\\python313\\site-packages (from matplotlib) (24.2)\n",
      "Requirement already satisfied: pillow>=8 in c:\\users\\vince\\appdata\\local\\packages\\pythonsoftwarefoundation.python.3.13_qbz5n2kfra8p0\\localcache\\local-packages\\python313\\site-packages (from matplotlib) (11.1.0)\n",
      "Requirement already satisfied: pyparsing>=2.3.1 in c:\\users\\vince\\appdata\\local\\packages\\pythonsoftwarefoundation.python.3.13_qbz5n2kfra8p0\\localcache\\local-packages\\python313\\site-packages (from matplotlib) (3.2.1)\n",
      "Requirement already satisfied: python-dateutil>=2.7 in c:\\users\\vince\\appdata\\local\\packages\\pythonsoftwarefoundation.python.3.13_qbz5n2kfra8p0\\localcache\\local-packages\\python313\\site-packages (from matplotlib) (2.9.0.post0)\n",
      "Requirement already satisfied: six>=1.5 in c:\\users\\vince\\appdata\\local\\packages\\pythonsoftwarefoundation.python.3.13_qbz5n2kfra8p0\\localcache\\local-packages\\python313\\site-packages (from python-dateutil>=2.7->matplotlib) (1.17.0)\n",
      "Note: you may need to restart the kernel to use updated packages.\n"
     ]
    },
    {
     "name": "stderr",
     "output_type": "stream",
     "text": [
      "\n",
      "[notice] A new release of pip is available: 24.3.1 -> 25.0.1\n",
      "[notice] To update, run: C:\\Users\\vince\\AppData\\Local\\Microsoft\\WindowsApps\\PythonSoftwareFoundation.Python.3.13_qbz5n2kfra8p0\\python.exe -m pip install --upgrade pip\n"
     ]
    },
    {
     "name": "stdout",
     "output_type": "stream",
     "text": [
      "Defaulting to user installation because normal site-packages is not writeable\n",
      "Requirement already satisfied: pandas in c:\\users\\vince\\appdata\\local\\packages\\pythonsoftwarefoundation.python.3.13_qbz5n2kfra8p0\\localcache\\local-packages\\python313\\site-packages (2.2.3)\n",
      "Requirement already satisfied: numpy>=1.26.0 in c:\\users\\vince\\appdata\\local\\packages\\pythonsoftwarefoundation.python.3.13_qbz5n2kfra8p0\\localcache\\local-packages\\python313\\site-packages (from pandas) (2.2.2)\n",
      "Requirement already satisfied: python-dateutil>=2.8.2 in c:\\users\\vince\\appdata\\local\\packages\\pythonsoftwarefoundation.python.3.13_qbz5n2kfra8p0\\localcache\\local-packages\\python313\\site-packages (from pandas) (2.9.0.post0)\n",
      "Requirement already satisfied: pytz>=2020.1 in c:\\users\\vince\\appdata\\local\\packages\\pythonsoftwarefoundation.python.3.13_qbz5n2kfra8p0\\localcache\\local-packages\\python313\\site-packages (from pandas) (2025.1)\n",
      "Requirement already satisfied: tzdata>=2022.7 in c:\\users\\vince\\appdata\\local\\packages\\pythonsoftwarefoundation.python.3.13_qbz5n2kfra8p0\\localcache\\local-packages\\python313\\site-packages (from pandas) (2025.1)\n",
      "Requirement already satisfied: six>=1.5 in c:\\users\\vince\\appdata\\local\\packages\\pythonsoftwarefoundation.python.3.13_qbz5n2kfra8p0\\localcache\\local-packages\\python313\\site-packages (from python-dateutil>=2.8.2->pandas) (1.17.0)\n",
      "Note: you may need to restart the kernel to use updated packages.\n"
     ]
    },
    {
     "name": "stderr",
     "output_type": "stream",
     "text": [
      "\n",
      "[notice] A new release of pip is available: 24.3.1 -> 25.0.1\n",
      "[notice] To update, run: C:\\Users\\vince\\AppData\\Local\\Microsoft\\WindowsApps\\PythonSoftwareFoundation.Python.3.13_qbz5n2kfra8p0\\python.exe -m pip install --upgrade pip\n"
     ]
    }
   ],
   "source": [
    "%pip install pulp\n",
    "%pip install matplotlib\n",
    "%pip install pandas\n",
    "\n",
    "import matplotlib as plt\n",
    "import pulp as pl\n",
    "import pandas as pd\n"
   ]
  },
  {
   "cell_type": "markdown",
   "metadata": {},
   "source": [
    "# Defining the problem\n",
    "\n",
    "In this example, we will define a simple integer programming problem. The problem is to maximize the profit of a factory that produces two types of products: Product A and Product B. The factory has limited resources in terms of labor and materials, and each product requires a different amount of these resources.\n",
    "\n",
    "### Problem Statement\n",
    "- **Objective**: Maximize the profit\n",
    "- **Decision Variables**:\n",
    "    - $ x_1 $: Number of units of Product A to produce\n",
    "    - $ x_2 $: Number of units of Product B to produce\n",
    "- **Constraints**:\n",
    "    - Labor: 3 hours for Product A and 1 hour for Product B, with a maximum of 100 hours available\n",
    "    - Material: 1 kg for Product A and 3 kg for Product B, with a maximum of 90 kg available\n",
    "- **Profit**:\n",
    "    - Product A: $40 per unit\n",
    "    - Product B: $30 per unit\n",
    "\n",
    "### Mathematical Formulation\n",
    "- **Objective Function**:\n",
    "    $$\n",
    "    \\text{Maximize } Z = 40x_1 + 30x_2\n",
    "    $$\n",
    "- **Subject to**:\n",
    "    $$\n",
    "    3x_1 + x_2 \\leq 100 \\quad \\text{(Labor constraint)}\n",
    "    $$\n",
    "    $$\n",
    "    x_1 + 3x_2 \\leq 90 \\quad \\text{(Material constraint)}\n",
    "    $$\n",
    "    $$\n",
    "    x_1, x_2 \\geq 0 \\quad \\text{(Non-negativity constraint)}\n",
    "    $$\n",
    "    $$\n",
    "    x_1, x_2 \\in \\mathbb{Z} \\quad \\text{(Integer constraint)}\n",
    "    $$\n",
    "\n",
    "### Defining the problem with PULP\n",
    "To define the problem with PULP, we first create an instance of `LpProblem` to represent our optimization problem. We then define the decision variables using `LpVariable`. The objective function is added to the problem using the `+=` operator. Similarly, the constraints are added to the problem using the `+=` operator. Here is the code that fits at the placeholder:\n",
    "\n",
    "To define the problem with PULP, we first create an instance of `LpProblem` to represent our optimization problem. We then define the decision variables using `LpVariable`. The objective function is added to the problem using the `+=` operator. Similarly, the constraints are added to the problem using the `+=` operator. Here is the code that fits at the placeholder:\n"
   ]
  },
  {
   "cell_type": "code",
   "execution_count": 56,
   "metadata": {},
   "outputs": [
    {
     "name": "stdout",
     "output_type": "stream",
     "text": [
      "MIP:\n",
      "MAXIMIZE\n",
      "40*x1 + 30*x2 + 0\n",
      "SUBJECT TO\n",
      "Labor_Constraint: 3 x1 + x2 <= 100\n",
      "\n",
      "Material_Constraint: x1 + 3 x2 <= 90\n",
      "\n",
      "VARIABLES\n",
      "0 <= x1 Integer\n",
      "0 <= x2 Integer\n",
      "\n"
     ]
    }
   ],
   "source": [
    "# Define the problem\n",
    "problem = pl.LpProblem(\"MIP\", pl.LpMaximize)\n",
    "\n",
    "# Define decision variables\n",
    "x1 = pl.LpVariable('x1', lowBound=0, cat='Integer')\n",
    "x2 = pl.LpVariable('x2', lowBound=0, cat='Integer')\n",
    "\n",
    "# Define the objective function\n",
    "problem += 40 * x1 + 30 * x2, \"Total_Profit\"\n",
    "\n",
    "# Define the constraints\n",
    "problem += 3 * x1 + x2 <= 100, \"Labor_Constraint\"\n",
    "problem += x1 + 3 * x2 <= 90, \"Material_Constraint\"\n",
    "\n",
    "# Display the problem\n",
    "print(problem)"
   ]
  },
  {
   "cell_type": "markdown",
   "metadata": {},
   "source": [
    "## Solving the linear relaxation\n",
    "\n",
    "The linear relaxation of an integer programming problem is obtained by relaxing the integer constraints on the decision variables. This means that the decision variables are allowed to take any non-negative real values, rather than just integer values. Solving the linear relaxation provides an upper bound on the optimal value of the original integer programming problem. \n",
    "\n",
    "To solve the linear relaxation of our problem, we can redefine the decision variables as continuous variables and solve the problem using PULP. Here is the code that fits at the placeholder:\n"
   ]
  },
  {
   "cell_type": "code",
   "execution_count": 57,
   "metadata": {},
   "outputs": [
    {
     "name": "stdout",
     "output_type": "stream",
     "text": [
      "Status: Optimal\n",
      "x1: 26.25\n",
      "x2: 21.25\n",
      "Objective: 1687.5\n"
     ]
    }
   ],
   "source": [
    "# Redefine decision variables as continuous\n",
    "x1.cat = 'Continuous'\n",
    "x2.cat = 'Continuous'\n",
    "\n",
    "# Solve the linear relaxation\n",
    "problem.solve()\n",
    "\n",
    "# Display the results\n",
    "print(f\"Status: {pl.LpStatus[problem.status]}\")\n",
    "print(f\"x1: {x1.varValue}\")\n",
    "print(f\"x2: {x2.varValue}\")\n",
    "print(f\"Objective: {pl.value(problem.objective)}\")"
   ]
  },
  {
   "cell_type": "markdown",
   "metadata": {},
   "source": [
    "## Solving the integer formulation\n",
    "To solve the integer formulation of our problem, we need to redefine the decision variables as integer variables and solve the problem using PULP. Here is the code that fits at the placeholder:\n",
    "\n"
   ]
  },
  {
   "cell_type": "code",
   "execution_count": 58,
   "metadata": {},
   "outputs": [
    {
     "name": "stdout",
     "output_type": "stream",
     "text": [
      "Status: Optimal\n",
      "x1: 26.0\n",
      "x2: 21.0\n",
      "Objective: 1670.0\n"
     ]
    }
   ],
   "source": [
    "x1.cat = 'Integer'\n",
    "x2.cat = 'Integer'\n",
    "\n",
    "problem.solve()\n",
    "\n",
    "print(f\"Status: {pl.LpStatus[problem.status]}\")\n",
    "print(f\"x1: {x1.varValue}\")\n",
    "print(f\"x2: {x2.varValue}\")\n",
    "print(f\"Objective: {pl.value(problem.objective)}\")"
   ]
  },
  {
   "cell_type": "markdown",
   "metadata": {},
   "source": [
    "## Validation of the solution\n",
    "Validating the solution is crucial to ensure that the obtained results are feasible and optimal according to the defined constraints and objective function. Validation helps in identifying any potential errors in the model formulation or data input. It also provides confidence that the solution can be implemented in real-world scenarios.\n",
    "\n",
    "To validate the solution, we can check the following:\n",
    "1. **Feasibility**: Ensure that all constraints are satisfied with the obtained solution.\n",
    "2. **Optimality**: Verify that the objective function value is maximized (or minimized) as expected.\n",
    "3. **Consistency**: Confirm that the decision variables are within their defined bounds and categories (e.g., integer, continuous).\n",
    "\n",
    "Here is the code that would fit at the placeholder:\n"
   ]
  },
  {
   "cell_type": "code",
   "execution_count": 59,
   "metadata": {},
   "outputs": [
    {
     "name": "stdout",
     "output_type": "stream",
     "text": [
      "Labor Constraint Satisfied: True\n",
      "Material Constraint Satisfied: True\n",
      "Objective Value: 1670.0\n",
      "Solution is Feasible: True\n",
      "Solution is Optimal: True\n"
     ]
    }
   ],
   "source": [
    "# Validate the solution\n",
    "def validate_solution(problem, x1, x2):\n",
    "    # Check feasibility\n",
    "    labor_constraint = 3 * x1.varValue + x2.varValue <= 100\n",
    "    material_constraint = x1.varValue + 3 * x2.varValue <= 90\n",
    "    \n",
    "    # Check optimality\n",
    "    objective_value = 40 * x1.varValue + 30 * x2.varValue\n",
    "    \n",
    "    # Print validation results\n",
    "    print(f\"Labor Constraint Satisfied: {labor_constraint}\")\n",
    "    print(f\"Material Constraint Satisfied: {material_constraint}\")\n",
    "    print(f\"Objective Value: {objective_value}\")\n",
    "    print(f\"Solution is Feasible: {labor_constraint and material_constraint}\")\n",
    "    print(f\"Solution is Optimal: {objective_value == pl.value(problem.objective)}\")\n",
    "\n",
    "validate_solution(problem, x1, x2)"
   ]
  },
  {
   "cell_type": "markdown",
   "metadata": {},
   "source": [
    "## A more complex example\n",
    "To illustrate a more complex example, we will solve a transportation problem where data is read from a CSV file. The  CSV file contains the supply, demand, and cost data for transporting goods from suppliers to consumers.\n",
    "\n",
    "The transportation problem is a type of linear programming problem where the objective is to determine the most cost-effective way to transport goods from multiple suppliers to multiple consumers while satisfying supply and demand constraints. The goal is to minimize the total transportation cost.\n",
    "\n",
    "### Problem Statement\n",
    "- **Objective**: Minimize the transportation cost\n",
    "- **Decision Variables**: \n",
    "    - $ x_{ij} $: Amount of goods transported from supplier $ i $ to consumer $ j $\n",
    "- **Constraints**:\n",
    "    - Supply constraints: The total amount of goods transported from each supplier should not exceed the available supply.\n",
    "    - Demand constraints: The total amount of goods transported to each consumer should meet the required demand.\n",
    "- **Cost**: The cost of transporting goods from each supplier to each consumer.\n",
    "\n",
    "### Mathematical Formulation\n",
    "- **Objective Function**:\n",
    "    $$\n",
    "    \\text{Minimize } Z = \\sum_{i=1}^{m} \\sum_{j=1}^{n} c_{ij} x_{ij}\n",
    "    $$\n",
    "    where $ c_{ij} $ is the cost of transporting goods from supplier $ i $ to consumer $ j $.\n",
    "- **Subject to**:\n",
    "    $$\n",
    "    \\sum_{j=1}^{n} x_{ij} \\leq s_i \\quad \\forall i \\quad \\text{(Supply constraints)}\n",
    "    $$\n",
    "    $$\n",
    "    \\sum_{i=1}^{m} x_{ij} \\geq d_j \\quad \\forall j \\quad \\text{(Demand constraints)}\n",
    "    $$\n",
    "    $$\n",
    "    x_{ij} \\geq 0 \\quad \\forall i, j \\quad \\text{(Non-negativity constraint)}\n",
    "    $$\n",
    "\n",
    "### Modeling the Transportation Problem with PULP\n",
    "To model the transportation problem with PULP, we need to:\n",
    "1. Create an instance of `LpProblem` to represent our optimization problem.\n",
    "2. Define the decision variables using `LpVariable.dicts`.\n",
    "3. Add the objective function to the problem using the `+=` operator.\n",
    "4. Add the supply and demand constraints to the problem using the `+=` operator."
   ]
  },
  {
   "cell_type": "code",
   "execution_count": 60,
   "metadata": {},
   "outputs": [
    {
     "name": "stdout",
     "output_type": "stream",
     "text": [
      "{('Supplier1', 'Customer1'): Route_('Supplier1',_'Customer1'), ('Supplier1', 'Customer2'): Route_('Supplier1',_'Customer2'), ('Supplier1', 'Customer3'): Route_('Supplier1',_'Customer3'), ('Supplier1', 'Customer4'): Route_('Supplier1',_'Customer4'), ('Supplier1', 'Customer5'): Route_('Supplier1',_'Customer5'), ('Supplier1', 'Customer6'): Route_('Supplier1',_'Customer6'), ('Supplier1', 'Customer7'): Route_('Supplier1',_'Customer7'), ('Supplier1', 'Customer8'): Route_('Supplier1',_'Customer8'), ('Supplier1', 'Customer9'): Route_('Supplier1',_'Customer9'), ('Supplier1', 'Customer10'): Route_('Supplier1',_'Customer10'), ('Supplier2', 'Customer1'): Route_('Supplier2',_'Customer1'), ('Supplier2', 'Customer2'): Route_('Supplier2',_'Customer2'), ('Supplier2', 'Customer3'): Route_('Supplier2',_'Customer3'), ('Supplier2', 'Customer4'): Route_('Supplier2',_'Customer4'), ('Supplier2', 'Customer5'): Route_('Supplier2',_'Customer5'), ('Supplier2', 'Customer6'): Route_('Supplier2',_'Customer6'), ('Supplier2', 'Customer7'): Route_('Supplier2',_'Customer7'), ('Supplier2', 'Customer8'): Route_('Supplier2',_'Customer8'), ('Supplier2', 'Customer9'): Route_('Supplier2',_'Customer9'), ('Supplier2', 'Customer10'): Route_('Supplier2',_'Customer10'), ('Supplier3', 'Customer1'): Route_('Supplier3',_'Customer1'), ('Supplier3', 'Customer2'): Route_('Supplier3',_'Customer2'), ('Supplier3', 'Customer3'): Route_('Supplier3',_'Customer3'), ('Supplier3', 'Customer4'): Route_('Supplier3',_'Customer4'), ('Supplier3', 'Customer5'): Route_('Supplier3',_'Customer5'), ('Supplier3', 'Customer6'): Route_('Supplier3',_'Customer6'), ('Supplier3', 'Customer7'): Route_('Supplier3',_'Customer7'), ('Supplier3', 'Customer8'): Route_('Supplier3',_'Customer8'), ('Supplier3', 'Customer9'): Route_('Supplier3',_'Customer9'), ('Supplier3', 'Customer10'): Route_('Supplier3',_'Customer10'), ('Supplier4', 'Customer1'): Route_('Supplier4',_'Customer1'), ('Supplier4', 'Customer2'): Route_('Supplier4',_'Customer2'), ('Supplier4', 'Customer3'): Route_('Supplier4',_'Customer3'), ('Supplier4', 'Customer4'): Route_('Supplier4',_'Customer4'), ('Supplier4', 'Customer5'): Route_('Supplier4',_'Customer5'), ('Supplier4', 'Customer6'): Route_('Supplier4',_'Customer6'), ('Supplier4', 'Customer7'): Route_('Supplier4',_'Customer7'), ('Supplier4', 'Customer8'): Route_('Supplier4',_'Customer8'), ('Supplier4', 'Customer9'): Route_('Supplier4',_'Customer9'), ('Supplier4', 'Customer10'): Route_('Supplier4',_'Customer10'), ('Supplier5', 'Customer1'): Route_('Supplier5',_'Customer1'), ('Supplier5', 'Customer2'): Route_('Supplier5',_'Customer2'), ('Supplier5', 'Customer3'): Route_('Supplier5',_'Customer3'), ('Supplier5', 'Customer4'): Route_('Supplier5',_'Customer4'), ('Supplier5', 'Customer5'): Route_('Supplier5',_'Customer5'), ('Supplier5', 'Customer6'): Route_('Supplier5',_'Customer6'), ('Supplier5', 'Customer7'): Route_('Supplier5',_'Customer7'), ('Supplier5', 'Customer8'): Route_('Supplier5',_'Customer8'), ('Supplier5', 'Customer9'): Route_('Supplier5',_'Customer9'), ('Supplier5', 'Customer10'): Route_('Supplier5',_'Customer10')}\n",
      "TP:\n",
      "MINIMIZE\n",
      "10*Route_('Supplier1',_'Customer1') + 100*Route_('Supplier1',_'Customer10') + 20*Route_('Supplier1',_'Customer2') + 30*Route_('Supplier1',_'Customer3') + 40*Route_('Supplier1',_'Customer4') + 50*Route_('Supplier1',_'Customer5') + 60*Route_('Supplier1',_'Customer6') + 70*Route_('Supplier1',_'Customer7') + 80*Route_('Supplier1',_'Customer8') + 90*Route_('Supplier1',_'Customer9') + 15*Route_('Supplier2',_'Customer1') + 105*Route_('Supplier2',_'Customer10') + 25*Route_('Supplier2',_'Customer2') + 35*Route_('Supplier2',_'Customer3') + 45*Route_('Supplier2',_'Customer4') + 55*Route_('Supplier2',_'Customer5') + 65*Route_('Supplier2',_'Customer6') + 75*Route_('Supplier2',_'Customer7') + 85*Route_('Supplier2',_'Customer8') + 95*Route_('Supplier2',_'Customer9') + 20*Route_('Supplier3',_'Customer1') + 110*Route_('Supplier3',_'Customer10') + 30*Route_('Supplier3',_'Customer2') + 40*Route_('Supplier3',_'Customer3') + 50*Route_('Supplier3',_'Customer4') + 60*Route_('Supplier3',_'Customer5') + 70*Route_('Supplier3',_'Customer6') + 80*Route_('Supplier3',_'Customer7') + 90*Route_('Supplier3',_'Customer8') + 100*Route_('Supplier3',_'Customer9') + 25*Route_('Supplier4',_'Customer1') + 115*Route_('Supplier4',_'Customer10') + 35*Route_('Supplier4',_'Customer2') + 45*Route_('Supplier4',_'Customer3') + 55*Route_('Supplier4',_'Customer4') + 65*Route_('Supplier4',_'Customer5') + 75*Route_('Supplier4',_'Customer6') + 85*Route_('Supplier4',_'Customer7') + 95*Route_('Supplier4',_'Customer8') + 105*Route_('Supplier4',_'Customer9') + 30*Route_('Supplier5',_'Customer1') + 120*Route_('Supplier5',_'Customer10') + 40*Route_('Supplier5',_'Customer2') + 50*Route_('Supplier5',_'Customer3') + 60*Route_('Supplier5',_'Customer4') + 70*Route_('Supplier5',_'Customer5') + 80*Route_('Supplier5',_'Customer6') + 90*Route_('Supplier5',_'Customer7') + 100*Route_('Supplier5',_'Customer8') + 110*Route_('Supplier5',_'Customer9') + 0\n",
      "SUBJECT TO\n",
      "_C1: Route_('Supplier1',_'Customer1') + Route_('Supplier1',_'Customer10')\n",
      " + Route_('Supplier1',_'Customer2') + Route_('Supplier1',_'Customer3')\n",
      " + Route_('Supplier1',_'Customer4') + Route_('Supplier1',_'Customer5')\n",
      " + Route_('Supplier1',_'Customer6') + Route_('Supplier1',_'Customer7')\n",
      " + Route_('Supplier1',_'Customer8') + Route_('Supplier1',_'Customer9') <= 500\n",
      "\n",
      "_C2: Route_('Supplier2',_'Customer1') + Route_('Supplier2',_'Customer10')\n",
      " + Route_('Supplier2',_'Customer2') + Route_('Supplier2',_'Customer3')\n",
      " + Route_('Supplier2',_'Customer4') + Route_('Supplier2',_'Customer5')\n",
      " + Route_('Supplier2',_'Customer6') + Route_('Supplier2',_'Customer7')\n",
      " + Route_('Supplier2',_'Customer8') + Route_('Supplier2',_'Customer9') <= 600\n",
      "\n",
      "_C3: Route_('Supplier3',_'Customer1') + Route_('Supplier3',_'Customer10')\n",
      " + Route_('Supplier3',_'Customer2') + Route_('Supplier3',_'Customer3')\n",
      " + Route_('Supplier3',_'Customer4') + Route_('Supplier3',_'Customer5')\n",
      " + Route_('Supplier3',_'Customer6') + Route_('Supplier3',_'Customer7')\n",
      " + Route_('Supplier3',_'Customer8') + Route_('Supplier3',_'Customer9') <= 700\n",
      "\n",
      "_C4: Route_('Supplier4',_'Customer1') + Route_('Supplier4',_'Customer10')\n",
      " + Route_('Supplier4',_'Customer2') + Route_('Supplier4',_'Customer3')\n",
      " + Route_('Supplier4',_'Customer4') + Route_('Supplier4',_'Customer5')\n",
      " + Route_('Supplier4',_'Customer6') + Route_('Supplier4',_'Customer7')\n",
      " + Route_('Supplier4',_'Customer8') + Route_('Supplier4',_'Customer9') <= 800\n",
      "\n",
      "_C5: Route_('Supplier5',_'Customer1') + Route_('Supplier5',_'Customer10')\n",
      " + Route_('Supplier5',_'Customer2') + Route_('Supplier5',_'Customer3')\n",
      " + Route_('Supplier5',_'Customer4') + Route_('Supplier5',_'Customer5')\n",
      " + Route_('Supplier5',_'Customer6') + Route_('Supplier5',_'Customer7')\n",
      " + Route_('Supplier5',_'Customer8') + Route_('Supplier5',_'Customer9') <= 900\n",
      "\n",
      "_C6: Route_('Supplier1',_'Customer1') + Route_('Supplier2',_'Customer1')\n",
      " + Route_('Supplier3',_'Customer1') + Route_('Supplier4',_'Customer1')\n",
      " + Route_('Supplier5',_'Customer1') >= 200\n",
      "\n",
      "_C7: Route_('Supplier1',_'Customer2') + Route_('Supplier2',_'Customer2')\n",
      " + Route_('Supplier3',_'Customer2') + Route_('Supplier4',_'Customer2')\n",
      " + Route_('Supplier5',_'Customer2') >= 500\n",
      "\n",
      "_C8: Route_('Supplier1',_'Customer3') + Route_('Supplier2',_'Customer3')\n",
      " + Route_('Supplier3',_'Customer3') + Route_('Supplier4',_'Customer3')\n",
      " + Route_('Supplier5',_'Customer3') >= 300\n",
      "\n",
      "_C9: Route_('Supplier1',_'Customer4') + Route_('Supplier2',_'Customer4')\n",
      " + Route_('Supplier3',_'Customer4') + Route_('Supplier4',_'Customer4')\n",
      " + Route_('Supplier5',_'Customer4') >= 500\n",
      "\n",
      "_C10: Route_('Supplier1',_'Customer5') + Route_('Supplier2',_'Customer5')\n",
      " + Route_('Supplier3',_'Customer5') + Route_('Supplier4',_'Customer5')\n",
      " + Route_('Supplier5',_'Customer5') >= 400\n",
      "\n",
      "_C11: Route_('Supplier1',_'Customer6') + Route_('Supplier2',_'Customer6')\n",
      " + Route_('Supplier3',_'Customer6') + Route_('Supplier4',_'Customer6')\n",
      " + Route_('Supplier5',_'Customer6') >= 150\n",
      "\n",
      "_C12: Route_('Supplier1',_'Customer7') + Route_('Supplier2',_'Customer7')\n",
      " + Route_('Supplier3',_'Customer7') + Route_('Supplier4',_'Customer7')\n",
      " + Route_('Supplier5',_'Customer7') >= 270\n",
      "\n",
      "_C13: Route_('Supplier1',_'Customer8') + Route_('Supplier2',_'Customer8')\n",
      " + Route_('Supplier3',_'Customer8') + Route_('Supplier4',_'Customer8')\n",
      " + Route_('Supplier5',_'Customer8') >= 210\n",
      "\n",
      "_C14: Route_('Supplier1',_'Customer9') + Route_('Supplier2',_'Customer9')\n",
      " + Route_('Supplier3',_'Customer9') + Route_('Supplier4',_'Customer9')\n",
      " + Route_('Supplier5',_'Customer9') >= 120\n",
      "\n",
      "_C15: Route_('Supplier1',_'Customer10') + Route_('Supplier2',_'Customer10')\n",
      " + Route_('Supplier3',_'Customer10') + Route_('Supplier4',_'Customer10')\n",
      " + Route_('Supplier5',_'Customer10') >= 130\n",
      "\n",
      "VARIABLES\n",
      "Route_('Supplier1',_'Customer1') Continuous\n",
      "Route_('Supplier1',_'Customer10') Continuous\n",
      "Route_('Supplier1',_'Customer2') Continuous\n",
      "Route_('Supplier1',_'Customer3') Continuous\n",
      "Route_('Supplier1',_'Customer4') Continuous\n",
      "Route_('Supplier1',_'Customer5') Continuous\n",
      "Route_('Supplier1',_'Customer6') Continuous\n",
      "Route_('Supplier1',_'Customer7') Continuous\n",
      "Route_('Supplier1',_'Customer8') Continuous\n",
      "Route_('Supplier1',_'Customer9') Continuous\n",
      "Route_('Supplier2',_'Customer1') Continuous\n",
      "Route_('Supplier2',_'Customer10') Continuous\n",
      "Route_('Supplier2',_'Customer2') Continuous\n",
      "Route_('Supplier2',_'Customer3') Continuous\n",
      "Route_('Supplier2',_'Customer4') Continuous\n",
      "Route_('Supplier2',_'Customer5') Continuous\n",
      "Route_('Supplier2',_'Customer6') Continuous\n",
      "Route_('Supplier2',_'Customer7') Continuous\n",
      "Route_('Supplier2',_'Customer8') Continuous\n",
      "Route_('Supplier2',_'Customer9') Continuous\n",
      "Route_('Supplier3',_'Customer1') Continuous\n",
      "Route_('Supplier3',_'Customer10') Continuous\n",
      "Route_('Supplier3',_'Customer2') Continuous\n",
      "Route_('Supplier3',_'Customer3') Continuous\n",
      "Route_('Supplier3',_'Customer4') Continuous\n",
      "Route_('Supplier3',_'Customer5') Continuous\n",
      "Route_('Supplier3',_'Customer6') Continuous\n",
      "Route_('Supplier3',_'Customer7') Continuous\n",
      "Route_('Supplier3',_'Customer8') Continuous\n",
      "Route_('Supplier3',_'Customer9') Continuous\n",
      "Route_('Supplier4',_'Customer1') Continuous\n",
      "Route_('Supplier4',_'Customer10') Continuous\n",
      "Route_('Supplier4',_'Customer2') Continuous\n",
      "Route_('Supplier4',_'Customer3') Continuous\n",
      "Route_('Supplier4',_'Customer4') Continuous\n",
      "Route_('Supplier4',_'Customer5') Continuous\n",
      "Route_('Supplier4',_'Customer6') Continuous\n",
      "Route_('Supplier4',_'Customer7') Continuous\n",
      "Route_('Supplier4',_'Customer8') Continuous\n",
      "Route_('Supplier4',_'Customer9') Continuous\n",
      "Route_('Supplier5',_'Customer1') Continuous\n",
      "Route_('Supplier5',_'Customer10') Continuous\n",
      "Route_('Supplier5',_'Customer2') Continuous\n",
      "Route_('Supplier5',_'Customer3') Continuous\n",
      "Route_('Supplier5',_'Customer4') Continuous\n",
      "Route_('Supplier5',_'Customer5') Continuous\n",
      "Route_('Supplier5',_'Customer6') Continuous\n",
      "Route_('Supplier5',_'Customer7') Continuous\n",
      "Route_('Supplier5',_'Customer8') Continuous\n",
      "Route_('Supplier5',_'Customer9') Continuous\n",
      "\n"
     ]
    }
   ],
   "source": [
    "# Getting the data from the CSV file\n",
    "data = pd.read_csv('assets/TransportationProblem.csv')\n",
    "# print(data)\n",
    "\n",
    "# We extract the demand and supply data and clean the data\n",
    "Demand = data.iloc[-1, 1:-1].to_dict()\n",
    "Supply = data.set_index('Supplier')['Supply'].to_dict()\n",
    "Supply.pop('Demand', None) # Remove the last element key 'Demand' from Supply\n",
    "data = data.iloc[:-1, :-1]\n",
    "data.set_index('Supplier', inplace=True)\n",
    "\n",
    "assert sum(Demand.values()) <= sum(Supply.values()), \"Infeasible Problem\"\n",
    "\n",
    "# print(Demand)\n",
    "# print(Supply)\n",
    "# print(data)\n",
    "\n",
    "# Define the problem\n",
    "problem = pl.LpProblem(\"TP\", pl.LpMinimize)\n",
    "\n",
    "# Define decision variables\n",
    "routes = [(i, j) for i in data.index for j in data.columns]\n",
    "route_vars = pl.LpVariable.dicts(\"Route\", routes, lowBound=0, cat='Continuous')\n",
    "\n",
    "print(route_vars)\n",
    "\n",
    "# Define the objective function\n",
    "problem += pl.lpSum(route_vars[i, j] * data.loc[i, j] for i, j in routes), \"Total_Cost\"\n",
    "\n",
    "# Define the constraints\n",
    "for i in data.index:\n",
    "    problem += pl.lpSum(route_vars[i, j] for j in data.columns) <= Supply[i]\n",
    "for j in data.columns:\n",
    "    problem += pl.lpSum(route_vars[i, j] for i in data.index) >= Demand[j]\n",
    "\n",
    "# Display the problem\n",
    "print(problem)"
   ]
  },
  {
   "cell_type": "markdown",
   "metadata": {},
   "source": [
    "## Solving the Transportation Problem with PULP\n",
    "\n",
    "After defining the problem, we can solve it using PULP's solver and display the results."
   ]
  },
  {
   "cell_type": "code",
   "execution_count": 61,
   "metadata": {},
   "outputs": [
    {
     "name": "stdout",
     "output_type": "stream",
     "text": [
      "Status: Optimal\n",
      "Objective: 155100.0\n",
      "Route_('Supplier1',_'Customer3'): 150.0\n",
      "Route_('Supplier1',_'Customer6'): 150.0\n",
      "Route_('Supplier1',_'Customer8'): 80.0\n",
      "Route_('Supplier1',_'Customer9'): 120.0\n",
      "Route_('Supplier2',_'Customer4'): 500.0\n",
      "Route_('Supplier2',_'Customer8'): 100.0\n",
      "Route_('Supplier3',_'Customer5'): 400.0\n",
      "Route_('Supplier3',_'Customer7'): 270.0\n",
      "Route_('Supplier3',_'Customer8'): 30.0\n",
      "Route_('Supplier4',_'Customer1'): 20.0\n",
      "Route_('Supplier4',_'Customer10'): 130.0\n",
      "Route_('Supplier4',_'Customer2'): 500.0\n",
      "Route_('Supplier4',_'Customer3'): 150.0\n",
      "Route_('Supplier5',_'Customer1'): 180.0\n"
     ]
    }
   ],
   "source": [
    "problem.solve()\n",
    "\n",
    "# Display the results\n",
    "print(f\"Status: {pl.LpStatus[problem.status]}\")\n",
    "print(f\"Objective: {pl.value(problem.objective)}\")\n",
    "\n",
    "for var in problem.variables():\n",
    "    if var.varValue > 0:\n",
    "        print(f\"{var.name}: {var.varValue}\")"
   ]
  }
 ],
 "metadata": {
  "kernelspec": {
   "display_name": "Python 3",
   "language": "python",
   "name": "python3"
  },
  "language_info": {
   "codemirror_mode": {
    "name": "ipython",
    "version": 3
   },
   "file_extension": ".py",
   "mimetype": "text/x-python",
   "name": "python",
   "nbconvert_exporter": "python",
   "pygments_lexer": "ipython3",
   "version": "3.13.2"
  }
 },
 "nbformat": 4,
 "nbformat_minor": 2
}
