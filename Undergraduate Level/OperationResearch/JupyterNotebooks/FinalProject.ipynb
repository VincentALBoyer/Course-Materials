{
 "cells": [
  {
   "cell_type": "markdown",
   "metadata": {},
   "source": [
    "# Final Project Notebook Template\n",
    "\n",
    "This template is designed for students to document their final project. Each team should ensure that the following information is included:\n",
    "\n",
    "- **Student IDs and Full Names**: List the student IDs and full names of all team members.\n",
    "- **Contribution of each Member**: Describe clearly the contribution of each team member in the project.\n",
    "- **Studied Problem**: Provide a clear description of the integer programming model being studied. Ensure that the problem is relevant and has been validated by the teacher.\n",
    "- **Real Data**: Use real data for the project. Describe the source and nature of the data being used.\n",
    "\n",
    "This notebook is structured to guide you through the process of defining, analyzing, and solving an integer programming problem. Follow the sections provided to document your workflow and findings comprehensively."
   ]
  },
  {
   "cell_type": "code",
   "execution_count": 1,
   "metadata": {},
   "outputs": [],
   "source": [
    "import sympy as sp\n",
    "import numpy as np\n",
    "import pandas as pd\n",
    "# add here the necessary imports"
   ]
  },
  {
   "cell_type": "markdown",
   "metadata": {},
   "source": [
    "## Introduction\n",
    "\n",
    "In the introduction section, you should provide an overview of the project. This may include the following:\n",
    "\n",
    "- The purpose and objectives of the project.\n",
    "- Background information or context that is necessary to understand the project.\n",
    "- A brief description of the data being used.\n",
    "- An outline of the structure of the notebook, including the main sections and what each section will cover.\n",
    "- Any assumptions or limitations that are relevant to the project."
   ]
  },
  {
   "cell_type": "markdown",
   "metadata": {},
   "source": [
    "## Description of the case study\n",
    "\n",
    "- A detailed description of the case study being analyzed.\n",
    "- The context and background information relevant to the case study.\n",
    "- The main objectives and goals of the case study.\n",
    "- The data sources and types of data used in the case study.\n",
    "- Any specific questions or hypotheses that the case study aims to address.\n",
    "- The significance and potential impact of the case study findings."
   ]
  },
  {
   "cell_type": "markdown",
   "metadata": {},
   "source": [
    "## Data Description\n",
    "\n",
    "In this section, you should provide a detailed description of the data being used in the project. This includes:\n",
    "\n",
    "- The source of the data (e.g., where it was obtained from).\n",
    "- The format of the data (e.g., CSV, Excel, TXT).\n",
    "- A brief description of the columns and what they represent.\n",
    "- Any preprocessing steps that were taken to clean or transform the data.\n",
    "\n",
    "Please note that the data should not be invented or created. You must use real data for this project.\n",
    "\n",
    "In the code block below, you must upload your data using a pandas dataframe. The data source can be an Excel file, CSV file, TXT file, or directly embedded in the notebook. Here is an example code snippet to help you get started:\n",
    "\n",
    "```python\n",
    "# Example of loading data from a CSV file\n",
    "df = pd.read_csv('path_to_your_file.csv')\n",
    "\n",
    "# Display the first few rows of the dataframe\n",
    "df.head()\n",
    "```"
   ]
  },
  {
   "cell_type": "code",
   "execution_count": null,
   "metadata": {},
   "outputs": [],
   "source": [
    "# Your code here"
   ]
  },
  {
   "cell_type": "markdown",
   "metadata": {},
   "source": [
    "## Problem Definition\n",
    "\n",
    "In this section, you should define the problem you are trying to solve. This includes:\n",
    "\n",
    "- A clear and concise statement of the problem.\n",
    "- The objectives and goals of the problem.\n",
    "- Any constraints or limitations that need to be considered.\n",
    "- The mathematical model of the problem, including the objective function and constraints, written in LaTeX format.\n",
    "\n",
    "For example, if you are working on an optimization problem, you might include something like this:\n",
    "\n",
    "$$\n",
    "\\begin{align*}\n",
    "\\text{Objective:} & \\quad \\text{Maximize } Z = c_1x_1 + c_2x_2 + \\ldots + c_nx_n \\\\\n",
    "\\text{Subject to:} & \\quad a_{11}x_1 + a_{12}x_2 + \\ldots + a_{1n}x_n \\leq b_1 \\\\\n",
    "& \\quad a_{21}x_1 + a_{22}x_2 + \\ldots + a_{2n}x_n \\leq b_2 \\\\\n",
    "& \\quad \\vdots \\\\\n",
    "& \\quad a_{m1}x_1 + a_{m2}x_2 + \\ldots + a_{mn}x_n \\leq b_m \\\\\n",
    "& \\quad x_i \\geq 0 \\quad \\text{for all } i\n",
    "\\end{align*}\n",
    "$$\n",
    "\n",
    "In the code block below, use `sympy` to define the objective and constraints based on the previous dataframe. Here is an example to get you started:\n",
    "\n",
    "```python\n",
    "# Define the variables\n",
    "x1, x2, x3 = sp.symbols('x1 x2 x3')\n",
    "\n",
    "# Define the objective function\n",
    "objective = 25*x1 + 30*x2 + 35*x3\n",
    "\n",
    "# Define the constraints\n",
    "constraint1 = sp.Eq(x1 + x2 + x3, 1)\n",
    "constraint2 = sp.Ge(x1, 0)\n",
    "constraint3 = sp.Ge(x2, 0)\n",
    "constraint4 = sp.Ge(x3, 0)\n",
    "\n",
    "# Display the objective and constraints\n",
    "objective, constraint1, constraint2, constraint3, constraint4\n",
    "```"
   ]
  },
  {
   "cell_type": "code",
   "execution_count": null,
   "metadata": {},
   "outputs": [],
   "source": [
    "# Your code here"
   ]
  },
  {
   "cell_type": "markdown",
   "metadata": {},
   "source": [
    "## Problem Solution\n",
    "\n",
    "To solve the integer programming model, you will use the `pulp` library. Follow these steps:\n",
    "\n",
    "1. **Install the `pulp` library**: If you haven't already installed the `pulp` library, you can install it using pip:\n",
    "    ```python\n",
    "    !pip install pulp\n",
    "    ```\n",
    "\n",
    "2. **Define the problem**: Create a `LpProblem` object to define the optimization problem.\n",
    "\n",
    "3. **Define the decision variables**: Use `LpVariable` to define the decision variables.\n",
    "\n",
    "4. **Set the objective function**: Use the `+=` operator to add the objective function to the problem.\n",
    "\n",
    "5. **Add the constraints**: Use the `+=` operator to add constraints to the problem.\n",
    "\n",
    "6. **Solve the problem**: Call the `solve` method to solve the problem.\n",
    "\n",
    "7. **Display the results**: Print the values of the decision variables and the objective function.\n",
    "\n",
    "Here is an example code snippet to help you get started:\n",
    "\n",
    "```python\n",
    "import pulp as lp\n",
    "\n",
    "# Define the problem\n",
    "prob = lp.LpProblem(\"Integer_Programming_Problem\", lp.LpMaximize)\n",
    "\n",
    "# Define the decision variables\n",
    "x1 = lp.LpVariable('x1', lowBound=0, cat='Integer')\n",
    "x2 = lp.LpVariable('x2', lowBound=0, cat='Integer')\n",
    "x3 = lp.LpVariable('x3', lowBound=0, cat='Integer')\n",
    "\n",
    "# Set the objective function\n",
    "prob += 25*x1 + 30*x2 + 35*x3, \"Objective\"\n",
    "\n",
    "# Add the constraints\n",
    "prob += x1 + x2 + x3 == 1, \"Constraint1\"\n",
    "prob += x1 >= 0, \"Constraint2\"\n",
    "prob += x2 >= 0, \"Constraint3\"\n",
    "prob += x3 >= 0, \"Constraint4\"\n",
    "\n",
    "# Solve the problem\n",
    "prob.solve()\n",
    "\n",
    "# Display the results\n",
    "for v in prob.variables():\n",
    "    print(v.name, \"=\", v.varValue)\n",
    "\n",
    "print(\"Objective =\", lp.value(prob.objective))\n",
    "```"
   ]
  },
  {
   "cell_type": "code",
   "execution_count": null,
   "metadata": {},
   "outputs": [],
   "source": [
    "# Your code here"
   ]
  },
  {
   "cell_type": "markdown",
   "metadata": {},
   "source": [
    "## Solution Validation and Analysis\n",
    "\n",
    "In this section, you should provide a detailed analysis of the solution obtained. This includes:\n",
    "\n",
    "- Verifying the solution by checking if all constraints are satisfied.\n",
    "- Analyzing the results using tables, plots, or statistical measures.\n",
    "- Comparing the obtained solution with any known benchmarks or expected results.\n",
    "- Discussing the implications of the solution and its relevance to the problem.\n",
    "- Highlighting any limitations or assumptions made during the analysis.\n"
   ]
  },
  {
   "cell_type": "code",
   "execution_count": null,
   "metadata": {},
   "outputs": [],
   "source": [
    "# Your code here"
   ]
  },
  {
   "cell_type": "markdown",
   "metadata": {},
   "source": [
    "## Conclusion\n",
    "\n",
    "In the conclusion section, you should summarize the key findings and insights from your project. This may include:\n",
    "\n",
    "- A brief recap of the problem and objectives.\n",
    "- A summary of the main results and how they address the problem.\n",
    "- Any conclusions or interpretations drawn from the results.\n",
    "- The significance and implications of the findings.\n",
    "- Any recommendations or next steps for future work.\n",
    "- A reflection on any challenges faced and how they were overcome."
   ]
  }
 ],
 "metadata": {
  "kernelspec": {
   "display_name": "Python 3",
   "language": "python",
   "name": "python3"
  },
  "language_info": {
   "codemirror_mode": {
    "name": "ipython",
    "version": 3
   },
   "file_extension": ".py",
   "mimetype": "text/x-python",
   "name": "python",
   "nbconvert_exporter": "python",
   "pygments_lexer": "ipython3",
   "version": "3.12.3"
  }
 },
 "nbformat": 4,
 "nbformat_minor": 2
}
