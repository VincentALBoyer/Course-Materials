{
 "cells": [
  {
   "cell_type": "markdown",
   "metadata": {},
   "source": [
    "# Integer Linear Programming with PuLP\n",
    "\n",
    "PuLP is a Python library used for linear programming and mixed-integer linear programming. It allows you to create mathematical models for optimization problems and solve them using various solvers. PuLP is particularly useful for defining and solving linear programming problems with ease.\n",
    "\n",
    "In this notebook, we will define and solve an integer linear programming problem using the PuLP package.\n"
   ]
  },
  {
   "cell_type": "markdown",
   "metadata": {},
   "source": [
    "## Problem Definition"
   ]
  },
  {
   "cell_type": "code",
   "execution_count": 1,
   "metadata": {},
   "outputs": [
    {
     "data": {
      "text/latex": [
       "$\\displaystyle min \\; Z = 50 x_{1} + 100 x_{2}$"
      ],
      "text/plain": [
       "<IPython.core.display.Math object>"
      ]
     },
     "metadata": {},
     "output_type": "display_data"
    },
    {
     "data": {
      "text/latex": [
       "$\\displaystyle \\text{s.t. }\\left[ 7 x_{1} + 2 x_{2} \\geq 28, \\  2 x_{1} + 12 x_{2} \\geq 24, \\  x_{1} \\geq 0, \\  x_{2} \\geq 0\\right]$"
      ],
      "text/plain": [
       "<IPython.core.display.Math object>"
      ]
     },
     "metadata": {},
     "output_type": "display_data"
    }
   ],
   "source": [
    "\n",
    "import sympy as sp\n",
    "from sympy import symbols, Eq, solve\n",
    "from IPython.display import display, Math\n",
    "\n",
    "# Define the symbols\n",
    "x1, x2 = sp.symbols('x1 x2')\n",
    "\n",
    "# Define the LP model\n",
    "opdir = 'min'\n",
    "objective = 50*x1 + 100*x2\n",
    "constraints = [7*x1 + 2*x2 >= 28, 2*x1 + 12*x2 >= 24, x1 >= 0, x2 >= 0]\n",
    "\n",
    "# Print the LP model\n",
    "display(Math(opdir + ' \\\\; Z = ' + sp.latex(objective)))\n",
    "display(Math('\\\\text{s.t. }' + sp.latex(constraints)))"
   ]
  },
  {
   "cell_type": "markdown",
   "metadata": {},
   "source": [
    "## Solving the Integer Linear Programming Problem"
   ]
  },
  {
   "cell_type": "code",
   "execution_count": 2,
   "metadata": {},
   "outputs": [
    {
     "name": "stdout",
     "output_type": "stream",
     "text": [
      "Welcome to the CBC MILP Solver \n",
      "Version: 2.10.11 \n",
      "Build Date: Jan 21 2024 \n",
      "\n",
      "command line - /usr/bin/cbc /tmp/aec4f3491efe4dd19a445d69deb60a4c-pulp.mps timeMode elapsed branch printingOptions all solution /tmp/aec4f3491efe4dd19a445d69deb60a4c-pulp.sol (default strategy 1)\n",
      "At line 2 NAME          MODEL\n",
      "At line 3 ROWS\n",
      "At line 9 COLUMNS\n",
      "At line 22 RHS\n",
      "At line 27 BOUNDS\n",
      "At line 30 ENDATA\n",
      "Problem MODEL has 4 rows, 2 columns and 6 elements\n",
      "Coin0008I MODEL read with 0 errors\n",
      "Option for timeMode changed from cpu to elapsed\n",
      "Continuous objective value is 320 - 0.00 seconds\n",
      "Cgl0003I 0 fixed, 2 tightened bounds, 0 strengthened rows, 0 substitutions\n",
      "Cgl0004I processed model has 2 rows, 2 columns (2 integer (0 of which binary)) and 4 elements\n",
      "Cutoff increment increased from 1e-05 to 49.9999\n",
      "Cbc0012I Integer solution of 400 found by greedy cover after 0 iterations and 0 nodes (0.01 seconds)\n",
      "Cbc0006I The LP relaxation is infeasible or too expensive\n",
      "Cbc0013I At root node, 0 cuts changed objective from 320 to 320 in 1 passes\n",
      "Cbc0014I Cut generator 0 (Probing) - 1 row cuts average 0.0 elements, 1 column cuts (1 active)  in 0.000 seconds - new frequency is 1\n",
      "Cbc0014I Cut generator 1 (Gomory) - 0 row cuts average 0.0 elements, 0 column cuts (0 active)  in 0.000 seconds - new frequency is -100\n",
      "Cbc0014I Cut generator 2 (Knapsack) - 0 row cuts average 0.0 elements, 0 column cuts (0 active)  in 0.000 seconds - new frequency is -100\n",
      "Cbc0014I Cut generator 3 (Clique) - 0 row cuts average 0.0 elements, 0 column cuts (0 active)  in 0.000 seconds - new frequency is -100\n",
      "Cbc0014I Cut generator 4 (MixedIntegerRounding2) - 0 row cuts average 0.0 elements, 0 column cuts (0 active)  in 0.000 seconds - new frequency is -100\n",
      "Cbc0014I Cut generator 5 (FlowCover) - 0 row cuts average 0.0 elements, 0 column cuts (0 active)  in 0.000 seconds - new frequency is -100\n",
      "Cbc0014I Cut generator 6 (TwoMirCuts) - 0 row cuts average 0.0 elements, 0 column cuts (0 active)  in 0.000 seconds - new frequency is -100\n",
      "Cbc0014I Cut generator 7 (ZeroHalf) - 0 row cuts average 0.0 elements, 0 column cuts (0 active)  in 0.000 seconds - new frequency is -100\n",
      "Cbc0001I Search completed - best objective 400, took 0 iterations and 0 nodes (0.01 seconds)\n",
      "Cbc0035I Maximum depth 0, 0 variables fixed on reduced cost\n",
      "Cuts at root node changed objective from 320 to 320\n",
      "Probing was tried 1 times and created 2 cuts of which 0 were active after adding rounds of cuts (0.000 seconds)\n",
      "Gomory was tried 0 times and created 0 cuts of which 0 were active after adding rounds of cuts (0.000 seconds)\n",
      "Knapsack was tried 0 times and created 0 cuts of which 0 were active after adding rounds of cuts (0.000 seconds)\n",
      "Clique was tried 0 times and created 0 cuts of which 0 were active after adding rounds of cuts (0.000 seconds)\n",
      "MixedIntegerRounding2 was tried 0 times and created 0 cuts of which 0 were active after adding rounds of cuts (0.000 seconds)\n",
      "FlowCover was tried 0 times and created 0 cuts of which 0 were active after adding rounds of cuts (0.000 seconds)\n",
      "TwoMirCuts was tried 0 times and created 0 cuts of which 0 were active after adding rounds of cuts (0.000 seconds)\n",
      "ZeroHalf was tried 0 times and created 0 cuts of which 0 were active after adding rounds of cuts (0.000 seconds)\n",
      "\n",
      "Result - Optimal solution found\n",
      "\n",
      "Objective value:                400.00000000\n",
      "Enumerated nodes:               0\n",
      "Total iterations:               0\n",
      "Time (CPU seconds):             0.00\n",
      "Time (Wallclock seconds):       0.01\n",
      "\n",
      "Option for printingOptions changed from normal to all\n",
      "Total time (CPU seconds):       0.00   (Wallclock seconds):       0.01\n",
      "\n",
      "Status: Optimal\n",
      "x1 = 6.0\n",
      "x2 = 1.0\n",
      "Objective = 400.0\n"
     ]
    }
   ],
   "source": [
    "import pulp\n",
    "\n",
    "# Define the problem\n",
    "prob = pulp.LpProblem(\"Integer_Linear_Programming\", pulp.LpMinimize if opdir == 'min' else pulp.LpMaximize)\n",
    "\n",
    "# Define the decision variables\n",
    "x1_var = pulp.LpVariable('x1', lowBound=0, cat='Integer')\n",
    "x2_var = pulp.LpVariable('x2', lowBound=0, cat='Integer')\n",
    "\n",
    "# Define the objective function\n",
    "prob += 50 * x1_var + 100 * x2_var\n",
    "\n",
    "# Define the constraints\n",
    "prob += 7 * x1_var + 2 * x2_var >= 28\n",
    "prob += 2 * x1_var + 12 * x2_var >= 24\n",
    "prob += x1_var >= 0\n",
    "prob += x2_var >= 0\n",
    "\n",
    "# Solve the problem\n",
    "prob.solve()\n",
    "\n",
    "# Print the results\n",
    "print(f\"Status: {pulp.LpStatus[prob.status]}\")\n",
    "print(f\"x1 = {pulp.value(x1_var)}\")\n",
    "print(f\"x2 = {pulp.value(x2_var)}\")\n",
    "print(f\"Objective = {pulp.value(prob.objective)}\")"
   ]
  }
 ],
 "metadata": {
  "kernelspec": {
   "display_name": "Python 3",
   "language": "python",
   "name": "python3"
  },
  "language_info": {
   "codemirror_mode": {
    "name": "ipython",
    "version": 3
   },
   "file_extension": ".py",
   "mimetype": "text/x-python",
   "name": "python",
   "nbconvert_exporter": "python",
   "pygments_lexer": "ipython3",
   "version": "3.12.3"
  }
 },
 "nbformat": 4,
 "nbformat_minor": 2
}
