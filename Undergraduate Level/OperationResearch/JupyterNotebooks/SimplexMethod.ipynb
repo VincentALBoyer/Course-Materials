{
 "cells": [
  {
   "cell_type": "markdown",
   "metadata": {},
   "source": [
    "# Linear Programming Optimization using Simplex Method\n",
    "\n",
    "In this notebook, we will solve a linear programming (LP) problem using the Simplex method. We will define the objective function and constraints, convert the problem to its standard form, and iteratively perform pivot operations to find the optimal solution. The steps include:\n",
    "\n",
    "1. Defining the LP model.\n",
    "2. Converting the model to standard form.\n",
    "3. Creating the initial simplex tableau.\n",
    "4. Performing pivot operations to optimize the objective function.\n",
    "5. Interpreting the final tableau to obtain the optimal solution.\n"
   ]
  },
  {
   "cell_type": "markdown",
   "metadata": {},
   "source": [
    "## Probleme Definition"
   ]
  },
  {
   "cell_type": "code",
   "execution_count": 8,
   "metadata": {},
   "outputs": [
    {
     "data": {
      "text/latex": [
       "$\\displaystyle max \\; Z = 300 c + 500 t$"
      ],
      "text/plain": [
       "<IPython.core.display.Math object>"
      ]
     },
     "metadata": {},
     "output_type": "display_data"
    },
    {
     "data": {
      "text/latex": [
       "$\\displaystyle \\text{s.t. }\\left[ c + 2 t \\leq 40, \\  2 c + t \\leq 50, \\  t \\geq 0, \\  c \\geq 0\\right]$"
      ],
      "text/plain": [
       "<IPython.core.display.Math object>"
      ]
     },
     "metadata": {},
     "output_type": "display_data"
    }
   ],
   "source": [
    "import numpy as np\n",
    "import matplotlib.pyplot as plt\n",
    "import sympy as sp\n",
    "from sympy import symbols, Eq, solve\n",
    "from IPython.display import display, Math\n",
    "\n",
    "# Define the symbols\n",
    "t, c = sp.symbols('t c')\n",
    "\n",
    "# Define the LP model\n",
    "opdir = 'max'\n",
    "objective = 500*t + 300*c\n",
    "constraints = [2*t + c <= 40, t + 2*c <= 50, t >= 0, c >= 0]\n",
    "\n",
    "# Print the LP model\n",
    "display(Math(opdir + ' \\\\; Z = ' + sp.latex(objective)))\n",
    "display(Math('\\\\text{s.t. }' + sp.latex(constraints)))"
   ]
  },
  {
   "cell_type": "markdown",
   "metadata": {},
   "source": [
    "## Standard Form"
   ]
  },
  {
   "cell_type": "code",
   "execution_count": 9,
   "metadata": {},
   "outputs": [
    {
     "data": {
      "text/latex": [
       "$\\displaystyle max \\; Z = 300 c + 500 t$"
      ],
      "text/plain": [
       "<IPython.core.display.Math object>"
      ]
     },
     "metadata": {},
     "output_type": "display_data"
    },
    {
     "data": {
      "text/latex": [
       "$\\displaystyle \\text{s.t. }\\left[ c + s_{1} + 2 t = 40, \\  2 c + s_{2} + t = 50, \\  t \\geq 0, \\  c \\geq 0, \\  s_{1} \\geq 0, \\  s_{2} \\geq 0\\right]$"
      ],
      "text/plain": [
       "<IPython.core.display.Math object>"
      ]
     },
     "metadata": {},
     "output_type": "display_data"
    }
   ],
   "source": [
    "# Define slack variables\n",
    "s1, s2 = sp.symbols('s1 s2')\n",
    "\n",
    "# Convert inequalities to equalities by adding slack variables\n",
    "standard_constraints = [\n",
    "    Eq(2*t + c + s1, 40),\n",
    "    Eq(t + 2*c + s2, 50),\n",
    "    t>=0,\n",
    "    c>=0,\n",
    "    s1>=0,\n",
    "    s2>=0\n",
    "]\n",
    "\n",
    "# Print the standard form of the LP model\n",
    "display(Math(opdir + ' \\\\; Z = ' + sp.latex(objective)))\n",
    "display(Math('\\\\text{s.t. }' + sp.latex(standard_constraints)))"
   ]
  },
  {
   "cell_type": "markdown",
   "metadata": {},
   "source": [
    "## Simplex (First Tableau)"
   ]
  },
  {
   "cell_type": "code",
   "execution_count": 10,
   "metadata": {},
   "outputs": [
    {
     "data": {
      "text/html": [
       "<div>\n",
       "<style scoped>\n",
       "    .dataframe tbody tr th:only-of-type {\n",
       "        vertical-align: middle;\n",
       "    }\n",
       "\n",
       "    .dataframe tbody tr th {\n",
       "        vertical-align: top;\n",
       "    }\n",
       "\n",
       "    .dataframe thead th {\n",
       "        text-align: right;\n",
       "    }\n",
       "</style>\n",
       "<table border=\"1\" class=\"dataframe\">\n",
       "  <thead>\n",
       "    <tr style=\"text-align: right;\">\n",
       "      <th></th>\n",
       "      <th>t</th>\n",
       "      <th>c</th>\n",
       "      <th>s1</th>\n",
       "      <th>s2</th>\n",
       "      <th>rhs</th>\n",
       "    </tr>\n",
       "  </thead>\n",
       "  <tbody>\n",
       "    <tr>\n",
       "      <th>s1</th>\n",
       "      <td>2</td>\n",
       "      <td>1</td>\n",
       "      <td>1</td>\n",
       "      <td>0</td>\n",
       "      <td>40</td>\n",
       "    </tr>\n",
       "    <tr>\n",
       "      <th>s2</th>\n",
       "      <td>1</td>\n",
       "      <td>2</td>\n",
       "      <td>0</td>\n",
       "      <td>1</td>\n",
       "      <td>50</td>\n",
       "    </tr>\n",
       "    <tr>\n",
       "      <th>Z</th>\n",
       "      <td>-500</td>\n",
       "      <td>-300</td>\n",
       "      <td>0</td>\n",
       "      <td>0</td>\n",
       "      <td>0</td>\n",
       "    </tr>\n",
       "  </tbody>\n",
       "</table>\n",
       "</div>"
      ],
      "text/plain": [
       "       t     c s1 s2 rhs\n",
       "s1     2     1  1  0  40\n",
       "s2     1     2  0  1  50\n",
       "Z   -500  -300  0  0   0"
      ]
     },
     "metadata": {},
     "output_type": "display_data"
    }
   ],
   "source": [
    "import pandas as pd\n",
    "\n",
    "# Create a function to generate the simplex tableau\n",
    "def create_simplex_tableau(standard_constraints, objective):\n",
    "    # Extract coefficients for the constraints\n",
    "    tableau = []\n",
    "    for constraint in standard_constraints[:-4]:  # Exclude non-negativity constraints\n",
    "        coeffs = [constraint.lhs.coeff(var) for var in [t, c, s1, s2]]\n",
    "        rhs = constraint.rhs\n",
    "        tableau.append(coeffs + [rhs])\n",
    "    \n",
    "    # Add the objective function row\n",
    "    obj_coeffs = [-objective.coeff(var) for var in [t, c, s1, s2]]\n",
    "    tableau.append(obj_coeffs + [0])\n",
    "    \n",
    "    # Create a pandas DataFrame\n",
    "    columns = ['BV', 't', 'c', 's1', 's2', 'rhs']\n",
    "    index = ['s1', 's2', 'Z'][:len(tableau)]\n",
    "    df = pd.DataFrame(tableau, columns=columns[1:], index=index)\n",
    "    #df.insert(0, 'BV', index)\n",
    "    \n",
    "    \n",
    "    return df\n",
    "\n",
    "# Generate the simplex tableau\n",
    "simplex_tableau = create_simplex_tableau(standard_constraints, objective)\n",
    "\n",
    "# Display the simplex tableau\n",
    "display(simplex_tableau)\n",
    "\n",
    "\n",
    "\n"
   ]
  },
  {
   "cell_type": "markdown",
   "metadata": {},
   "source": [
    "## Second Tableau"
   ]
  },
  {
   "cell_type": "code",
   "execution_count": 11,
   "metadata": {},
   "outputs": [
    {
     "data": {
      "text/plain": [
       "'pivot column:t'"
      ]
     },
     "metadata": {},
     "output_type": "display_data"
    },
    {
     "data": {
      "text/plain": [
       "'pivot row:0'"
      ]
     },
     "metadata": {},
     "output_type": "display_data"
    },
    {
     "data": {
      "text/html": [
       "<div>\n",
       "<style scoped>\n",
       "    .dataframe tbody tr th:only-of-type {\n",
       "        vertical-align: middle;\n",
       "    }\n",
       "\n",
       "    .dataframe tbody tr th {\n",
       "        vertical-align: top;\n",
       "    }\n",
       "\n",
       "    .dataframe thead th {\n",
       "        text-align: right;\n",
       "    }\n",
       "</style>\n",
       "<table border=\"1\" class=\"dataframe\">\n",
       "  <thead>\n",
       "    <tr style=\"text-align: right;\">\n",
       "      <th></th>\n",
       "      <th>t</th>\n",
       "      <th>c</th>\n",
       "      <th>s1</th>\n",
       "      <th>s2</th>\n",
       "      <th>rhs</th>\n",
       "    </tr>\n",
       "  </thead>\n",
       "  <tbody>\n",
       "    <tr>\n",
       "      <th>t</th>\n",
       "      <td>1</td>\n",
       "      <td>1/2</td>\n",
       "      <td>1/2</td>\n",
       "      <td>0</td>\n",
       "      <td>20</td>\n",
       "    </tr>\n",
       "    <tr>\n",
       "      <th>s2</th>\n",
       "      <td>0</td>\n",
       "      <td>3/2</td>\n",
       "      <td>-1/2</td>\n",
       "      <td>1</td>\n",
       "      <td>30</td>\n",
       "    </tr>\n",
       "    <tr>\n",
       "      <th>Z</th>\n",
       "      <td>0</td>\n",
       "      <td>-50</td>\n",
       "      <td>250</td>\n",
       "      <td>0</td>\n",
       "      <td>10000</td>\n",
       "    </tr>\n",
       "  </tbody>\n",
       "</table>\n",
       "</div>"
      ],
      "text/plain": [
       "    t    c    s1 s2    rhs\n",
       "t   1  1/2   1/2  0     20\n",
       "s2  0  3/2  -1/2  1     30\n",
       "Z   0  -50   250  0  10000"
      ]
     },
     "execution_count": 11,
     "metadata": {},
     "output_type": "execute_result"
    }
   ],
   "source": [
    "import numpy as np\n",
    "\n",
    "def pivot_on(tableau, row, col):\n",
    "    # Convert the data types to numeric values\n",
    "    #tableau = tableau.apply(pd.to_numeric, errors='coerce')\n",
    "    \n",
    "    # Divide the pivot row by the pivot element\n",
    "    tableau.iloc[row] = tableau.iloc[row] / tableau.iloc[row, col]\n",
    "    # Subtract a multiple of the pivot row from all other rows\n",
    "    for i in range(len(tableau)):\n",
    "        if i == row:\n",
    "            continue\n",
    "        tableau.iloc[i] = tableau.iloc[i] - tableau.iloc[i, col] * tableau.iloc[row]\n",
    "    \n",
    "    # Update the index of the pivot row\n",
    "    tableau.index.values[row] = tableau.columns[col]\n",
    "    \n",
    "    return tableau\n",
    "\n",
    "# Define the pivot column\n",
    "pivot_col = 't'\n",
    "\n",
    "# Find the pivot row\n",
    "pivot_row = np.argmin(simplex_tableau.iloc[:-1]['rhs'] / simplex_tableau.iloc[:-1][pivot_col])\n",
    "\n",
    "display('pivot column:'+str(pivot_col))\n",
    "display('pivot row:'+str(pivot_row))\n",
    "# Perform the pivot operation\n",
    "pivot_on(simplex_tableau, pivot_row, simplex_tableau.columns.get_loc(pivot_col))"
   ]
  },
  {
   "cell_type": "markdown",
   "metadata": {},
   "source": [
    "## Third Tableau"
   ]
  },
  {
   "cell_type": "code",
   "execution_count": 12,
   "metadata": {},
   "outputs": [
    {
     "data": {
      "text/plain": [
       "'pivot column:c'"
      ]
     },
     "metadata": {},
     "output_type": "display_data"
    },
    {
     "data": {
      "text/plain": [
       "'pivot row:1'"
      ]
     },
     "metadata": {},
     "output_type": "display_data"
    },
    {
     "data": {
      "text/html": [
       "<div>\n",
       "<style scoped>\n",
       "    .dataframe tbody tr th:only-of-type {\n",
       "        vertical-align: middle;\n",
       "    }\n",
       "\n",
       "    .dataframe tbody tr th {\n",
       "        vertical-align: top;\n",
       "    }\n",
       "\n",
       "    .dataframe thead th {\n",
       "        text-align: right;\n",
       "    }\n",
       "</style>\n",
       "<table border=\"1\" class=\"dataframe\">\n",
       "  <thead>\n",
       "    <tr style=\"text-align: right;\">\n",
       "      <th></th>\n",
       "      <th>t</th>\n",
       "      <th>c</th>\n",
       "      <th>s1</th>\n",
       "      <th>s2</th>\n",
       "      <th>rhs</th>\n",
       "    </tr>\n",
       "  </thead>\n",
       "  <tbody>\n",
       "    <tr>\n",
       "      <th>t</th>\n",
       "      <td>1</td>\n",
       "      <td>0</td>\n",
       "      <td>2/3</td>\n",
       "      <td>-1/3</td>\n",
       "      <td>10</td>\n",
       "    </tr>\n",
       "    <tr>\n",
       "      <th>c</th>\n",
       "      <td>0</td>\n",
       "      <td>1</td>\n",
       "      <td>-1/3</td>\n",
       "      <td>2/3</td>\n",
       "      <td>20</td>\n",
       "    </tr>\n",
       "    <tr>\n",
       "      <th>Z</th>\n",
       "      <td>0</td>\n",
       "      <td>0</td>\n",
       "      <td>700/3</td>\n",
       "      <td>100/3</td>\n",
       "      <td>11000</td>\n",
       "    </tr>\n",
       "  </tbody>\n",
       "</table>\n",
       "</div>"
      ],
      "text/plain": [
       "   t  c     s1     s2    rhs\n",
       "t  1  0    2/3   -1/3     10\n",
       "c  0  1   -1/3    2/3     20\n",
       "Z  0  0  700/3  100/3  11000"
      ]
     },
     "execution_count": 12,
     "metadata": {},
     "output_type": "execute_result"
    }
   ],
   "source": [
    "pivot_col = 'c'\n",
    "pivot_row = np.argmin(simplex_tableau.iloc[:-1]['rhs'] / simplex_tableau.iloc[:-1][pivot_col])\n",
    "display('pivot column:'+str(pivot_col))\n",
    "display('pivot row:'+str(pivot_row))\n",
    "# Perform the pivot operation\n",
    "pivot_on(simplex_tableau, pivot_row, simplex_tableau.columns.get_loc(pivot_col))"
   ]
  },
  {
   "cell_type": "markdown",
   "metadata": {},
   "source": [
    "## Conclusion\n",
    "\n",
    "The optimal solution is found in the last row of the simplex tableau. The values of the decision variables can be read from the tableau where the basic variables (BV) are equal to the decision variables.\n",
    "\n",
    "The optimal solution is:\n",
    "- $ t = 10 $\n",
    "- $ c = 20 $\n",
    "- Objective value $ Z = 11000 $"
   ]
  }
 ],
 "metadata": {
  "kernelspec": {
   "display_name": "Python 3",
   "language": "python",
   "name": "python3"
  },
  "language_info": {
   "codemirror_mode": {
    "name": "ipython",
    "version": 3
   },
   "file_extension": ".py",
   "mimetype": "text/x-python",
   "name": "python",
   "nbconvert_exporter": "python",
   "pygments_lexer": "ipython3",
   "version": "3.12.3"
  }
 },
 "nbformat": 4,
 "nbformat_minor": 2
}
