from sympy import symbols, Eq, solve, Matrix

# Define the variables
x1, x2, s1, s2, z = symbols('x1 x2 s1 s2 z')

# Define the constraints
constraints = [
    Eq(x1 + x2 + s1, 4),
    Eq(2*x1 + x2 + s2, 5)
]

# Define the objective function
objective = Eq(z, 3*x1 + 2*x2)

# Create the initial simplex tableau
tableau = Matrix([
    [1, 1, 1, 0, 4],
    [2, 1, 0, 1, 5],
    [-3, -2, 0, 0, 0]
])

# Print the initial simplex tableau
print("B.V. x_1 x_2 s_1 s_2 rhs")
for i, row in enumerate(tableau.tolist()):
    print(f"row {i+1} {row}")

# Perform simplex iterations (this is a simplified version)
def simplex_iteration(tableau):
    # Find the pivot column (most negative value in the objective row)
    pivot_col = min(range(len(tableau[-1, :-1])), key=lambda c: tableau[-1, c])
    
    # Find the pivot row
    ratios = [tableau[i, -1] / tableau[i, pivot_col] if tableau[i, pivot_col] > 0 else float('inf') for i in range(len(tableau) - 1)]
    pivot_row = min(range(len(ratios)), key=lambda r: ratios[r])
    
    # Perform pivot operation
    pivot_element = tableau[pivot_row, pivot_col]
    tableau[pivot_row, :] /= pivot_element
    for i in range(len(tableau)):
        if i != pivot_row:
            tableau[i, :] -= tableau[i, pivot_col] * tableau[pivot_row, :]
    
    return tableau

# Perform simplex iterations until optimal solution is found
while any(tableau[-1, :-1] < 0):
    tableau = simplex_iteration(tableau)
    print("B.V. x_1 x_2 s_1 s_2 rhs")
    for i, row in enumerate(tableau.tolist()):
        print(f"row {i+1} {row}")

# Print the final tableau
print("Final Simplex Tableau:")
print("B.V. x_1 x_2 s_1 s_2 rhs")
for i, row in enumerate(tableau.tolist()):
    print(f"row {i+1} {row}")