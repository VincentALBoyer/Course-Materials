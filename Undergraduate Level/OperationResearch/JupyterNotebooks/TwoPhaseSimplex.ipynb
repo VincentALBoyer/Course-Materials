{
 "cells": [
  {
   "cell_type": "markdown",
   "metadata": {},
   "source": [
    "# Linear Programming using Simplex Method\n",
    "\n",
    "This notebook demonstrates the process of solving a linear programming (LP) problem using the Simplex Method. The steps involved are:\n",
    "\n",
    "1. **Problem Definition**: Define the objective function and constraints of the LP problem.\n",
    "2. **Standard Form**: Convert the constraints to standard form by introducing excess variables.\n",
    "3. **First Phase**: Solve the first phase subproblem by introducing artificial variables and adjusting the simplex tableau.\n",
    "4. **Second Phase**: Solve the second phase subproblem by removing artificial variables and adjusting the simplex tableau to find the optimal solution.\n",
    "\n",
    "The notebook includes utility functions to create and manipulate the simplex tableau, as well as to retrieve the solution."
   ]
  },
  {
   "cell_type": "markdown",
   "metadata": {},
   "source": [
    "## Utility Functions"
   ]
  },
  {
   "cell_type": "code",
   "execution_count": 6,
   "metadata": {},
   "outputs": [],
   "source": [
    "import pandas as pd\n",
    "import numpy as np\n",
    "import matplotlib.pyplot as plt\n",
    "import sympy as sp\n",
    "from sympy import symbols, Eq, solve\n",
    "from IPython.display import display, Math\n",
    "\n",
    "# Create a function to generate the simplex tableau\n",
    "def create_simplex_tableau(standard_constraints, objective, Vars, BVs):\n",
    "    # Extract coefficients for the constraints\n",
    "    tableau = []\n",
    "    for constraint in standard_constraints:  # Exclude non-negativity constraints\n",
    "        coeffs = [constraint.lhs.coeff(var) for var in Vars]\n",
    "        rhs = constraint.rhs\n",
    "        tableau.append(coeffs + [rhs])\n",
    "    \n",
    "    # Add the objective function row\n",
    "    obj_coeffs = [-objective.coeff(var) for var in Vars]\n",
    "    tableau.append(obj_coeffs + [0])\n",
    "    \n",
    "    # Create a pandas DataFrame\n",
    "    columns = ['BV'] + [str(var) for var in Vars] + ['RHS']\n",
    "    index = [str(var) for var in BVs ] + ['Z']\n",
    "    df = pd.DataFrame(tableau, columns=columns[1:], index=index)\n",
    "    \n",
    "    \n",
    "    return df\n",
    "\n",
    "def pivot_on(tableau, row, col):\n",
    "    # Convert the data types to numeric values\n",
    "    #tableau = tableau.apply(pd.to_numeric, errors='coerce')\n",
    "    \n",
    "    # Divide the pivot row by the pivot element\n",
    "    tableau.iloc[row] = tableau.iloc[row] / tableau.iloc[row, col]\n",
    "    # Subtract a multiple of the pivot row from all other rows\n",
    "    for i in range(len(tableau)):\n",
    "        if i == row:\n",
    "            continue\n",
    "        tableau.iloc[i] = tableau.iloc[i] - tableau.iloc[i, col] * tableau.iloc[row]\n",
    "    \n",
    "    # Update the index of the pivot row\n",
    "    tableau.index.values[row] = tableau.columns[col]\n",
    "    \n",
    "    return tableau\n",
    "\n",
    "def adjust_tableau(tableau):\n",
    "    # Adjust the tableau to make 0 the coefficients of the basic variables\n",
    "    BVs = [col for col in tableau.index if col != 'Z']\n",
    "    Vars = [col for col in tableau.columns if col != 'RHS']\n",
    "    display(BVs)\n",
    "    display(Vars)\n",
    "    for BV in BVs:\n",
    "        col = Vars.index(BV)\n",
    "        # print(f\"Index: {BV}, Type: {type(BV)}\")\n",
    "        # display(tableau.index)\n",
    "        # for i in tableau.index:\n",
    "        #     print(f\"Index: {i}, Type: {type(i)}\")\n",
    "        # display(tableau.index.get_loc(BV))\n",
    "        # display(tableau)\n",
    "        row = BVs.index(BV)\n",
    "        tableau = pivot_on(tableau, row, col)\n",
    "    \n",
    "    \n",
    "    return tableau\n",
    "\n",
    "def retrieve_solution(tableau):\n",
    "    solution = {}\n",
    "    Vars = [col for col in tableau.columns if col != 'RHS']\n",
    "    \n",
    "    for var in Vars:\n",
    "        if var in tableau.index:\n",
    "            solution[var] = tableau.loc[var, 'RHS']\n",
    "        else:\n",
    "            solution[var] = 0\n",
    "    \n",
    "    return solution\n",
    "    "
   ]
  },
  {
   "cell_type": "markdown",
   "metadata": {},
   "source": [
    "## Problem Definition"
   ]
  },
  {
   "cell_type": "code",
   "execution_count": 7,
   "metadata": {},
   "outputs": [
    {
     "data": {
      "text/latex": [
       "$\\displaystyle min \\; Z = 50 x_{1} + 100 x_{2}$"
      ],
      "text/plain": [
       "<IPython.core.display.Math object>"
      ]
     },
     "metadata": {},
     "output_type": "display_data"
    },
    {
     "data": {
      "text/latex": [
       "$\\displaystyle \\text{s.t. }\\left[ 7 x_{1} + 2 x_{2} \\geq 28, \\  2 x_{1} + 12 x_{2} \\geq 24, \\  x_{1} \\geq 0, \\  x_{2} \\geq 0\\right]$"
      ],
      "text/plain": [
       "<IPython.core.display.Math object>"
      ]
     },
     "metadata": {},
     "output_type": "display_data"
    }
   ],
   "source": [
    "# Define the symbols\n",
    "x1, x2 = sp.symbols('x1 x2')\n",
    "\n",
    "# Define the LP model\n",
    "opdir = 'min'\n",
    "objective = 50*x1 + 100*x2\n",
    "constraints = [7*x1 + 2*x2 >= 28, 2*x1 + 12*x2 >= 24, x1 >= 0, x2 >= 0]\n",
    "\n",
    "# Print the LP model\n",
    "display(Math(opdir + ' \\\\; Z = ' + sp.latex(objective)))\n",
    "display(Math('\\\\text{s.t. }' + sp.latex(constraints)))"
   ]
  },
  {
   "cell_type": "markdown",
   "metadata": {},
   "source": [
    "## Standard Form"
   ]
  },
  {
   "cell_type": "code",
   "execution_count": 8,
   "metadata": {},
   "outputs": [
    {
     "data": {
      "text/latex": [
       "$\\displaystyle min \\; Z = 50 x_{1} + 100 x_{2}$"
      ],
      "text/plain": [
       "<IPython.core.display.Math object>"
      ]
     },
     "metadata": {},
     "output_type": "display_data"
    },
    {
     "data": {
      "text/latex": [
       "$\\displaystyle \\text{s.t. }\\left[ - e_{1} + 7 x_{1} + 2 x_{2} = 28, \\  - e_{2} + 2 x_{1} + 12 x_{2} = 24, \\  x_{1} \\geq 0, \\  x_{2} \\geq 0, \\  e_{1} \\geq 0, \\  e_{2} \\geq 0\\right]$"
      ],
      "text/plain": [
       "<IPython.core.display.Math object>"
      ]
     },
     "metadata": {},
     "output_type": "display_data"
    }
   ],
   "source": [
    "# Define the excess variables\n",
    "e1, e2 = sp.symbols('e1 e2')\n",
    "\n",
    "# Convert inequalities to equalities by introducing excess variables\n",
    "standard_constraints = [\n",
    "    Eq(7*x1 + 2*x2 - e1, 28),\n",
    "    Eq(2*x1 + 12*x2 - e2, 24),\n",
    "    x1 >= 0,\n",
    "    x2 >= 0,\n",
    "    e1 >= 0,\n",
    "    e2 >= 0\n",
    "]\n",
    "\n",
    "# Print the standard form constraints\n",
    "display(Math(opdir + ' \\\\; Z = ' + sp.latex(objective)))\n",
    "display(Math('\\\\text{s.t. }' + sp.latex(standard_constraints)))"
   ]
  },
  {
   "cell_type": "markdown",
   "metadata": {},
   "source": [
    "## First Phase"
   ]
  },
  {
   "cell_type": "code",
   "execution_count": 9,
   "metadata": {},
   "outputs": [
    {
     "data": {
      "text/latex": [
       "$\\displaystyle min \\; Z = a_{1} + a_{2}$"
      ],
      "text/plain": [
       "<IPython.core.display.Math object>"
      ]
     },
     "metadata": {},
     "output_type": "display_data"
    },
    {
     "data": {
      "text/latex": [
       "$\\displaystyle \\text{s.t. }\\left[ a_{1} - e_{1} + 7 x_{1} + 2 x_{2} = 28, \\  a_{2} - e_{2} + 2 x_{1} + 12 x_{2} = 24, \\  x_{1} \\geq 0, \\  x_{2} \\geq 0, \\  e_{1} \\geq 0, \\  e_{2} \\geq 0, \\  a_{1} \\geq 0, \\  a_{2} \\geq 0\\right]$"
      ],
      "text/plain": [
       "<IPython.core.display.Math object>"
      ]
     },
     "metadata": {},
     "output_type": "display_data"
    },
    {
     "data": {
      "text/html": [
       "<div>\n",
       "<style scoped>\n",
       "    .dataframe tbody tr th:only-of-type {\n",
       "        vertical-align: middle;\n",
       "    }\n",
       "\n",
       "    .dataframe tbody tr th {\n",
       "        vertical-align: top;\n",
       "    }\n",
       "\n",
       "    .dataframe thead th {\n",
       "        text-align: right;\n",
       "    }\n",
       "</style>\n",
       "<table border=\"1\" class=\"dataframe\">\n",
       "  <thead>\n",
       "    <tr style=\"text-align: right;\">\n",
       "      <th></th>\n",
       "      <th>x1</th>\n",
       "      <th>x2</th>\n",
       "      <th>e1</th>\n",
       "      <th>e2</th>\n",
       "      <th>a1</th>\n",
       "      <th>a2</th>\n",
       "      <th>RHS</th>\n",
       "    </tr>\n",
       "  </thead>\n",
       "  <tbody>\n",
       "    <tr>\n",
       "      <th>a1</th>\n",
       "      <td>7</td>\n",
       "      <td>2</td>\n",
       "      <td>-1</td>\n",
       "      <td>0</td>\n",
       "      <td>1</td>\n",
       "      <td>0</td>\n",
       "      <td>28</td>\n",
       "    </tr>\n",
       "    <tr>\n",
       "      <th>a2</th>\n",
       "      <td>2</td>\n",
       "      <td>12</td>\n",
       "      <td>0</td>\n",
       "      <td>-1</td>\n",
       "      <td>0</td>\n",
       "      <td>1</td>\n",
       "      <td>24</td>\n",
       "    </tr>\n",
       "    <tr>\n",
       "      <th>Z</th>\n",
       "      <td>0</td>\n",
       "      <td>0</td>\n",
       "      <td>0</td>\n",
       "      <td>0</td>\n",
       "      <td>-1</td>\n",
       "      <td>-1</td>\n",
       "      <td>0</td>\n",
       "    </tr>\n",
       "  </tbody>\n",
       "</table>\n",
       "</div>"
      ],
      "text/plain": [
       "   x1  x2  e1  e2  a1  a2 RHS\n",
       "a1  7   2  -1   0   1   0  28\n",
       "a2  2  12   0  -1   0   1  24\n",
       "Z   0   0   0   0  -1  -1   0"
      ]
     },
     "metadata": {},
     "output_type": "display_data"
    },
    {
     "data": {
      "text/plain": [
       "['a1', 'a2']"
      ]
     },
     "metadata": {},
     "output_type": "display_data"
    },
    {
     "data": {
      "text/plain": [
       "['x1', 'x2', 'e1', 'e2', 'a1', 'a2']"
      ]
     },
     "metadata": {},
     "output_type": "display_data"
    },
    {
     "data": {
      "text/plain": [
       "'Phase1: Adjusted Tableau'"
      ]
     },
     "metadata": {},
     "output_type": "display_data"
    },
    {
     "data": {
      "text/html": [
       "<div>\n",
       "<style scoped>\n",
       "    .dataframe tbody tr th:only-of-type {\n",
       "        vertical-align: middle;\n",
       "    }\n",
       "\n",
       "    .dataframe tbody tr th {\n",
       "        vertical-align: top;\n",
       "    }\n",
       "\n",
       "    .dataframe thead th {\n",
       "        text-align: right;\n",
       "    }\n",
       "</style>\n",
       "<table border=\"1\" class=\"dataframe\">\n",
       "  <thead>\n",
       "    <tr style=\"text-align: right;\">\n",
       "      <th></th>\n",
       "      <th>x1</th>\n",
       "      <th>x2</th>\n",
       "      <th>e1</th>\n",
       "      <th>e2</th>\n",
       "      <th>a1</th>\n",
       "      <th>a2</th>\n",
       "      <th>RHS</th>\n",
       "    </tr>\n",
       "  </thead>\n",
       "  <tbody>\n",
       "    <tr>\n",
       "      <th>a1</th>\n",
       "      <td>7</td>\n",
       "      <td>2</td>\n",
       "      <td>-1</td>\n",
       "      <td>0</td>\n",
       "      <td>1</td>\n",
       "      <td>0</td>\n",
       "      <td>28</td>\n",
       "    </tr>\n",
       "    <tr>\n",
       "      <th>a2</th>\n",
       "      <td>2</td>\n",
       "      <td>12</td>\n",
       "      <td>0</td>\n",
       "      <td>-1</td>\n",
       "      <td>0</td>\n",
       "      <td>1</td>\n",
       "      <td>24</td>\n",
       "    </tr>\n",
       "    <tr>\n",
       "      <th>Z</th>\n",
       "      <td>9</td>\n",
       "      <td>14</td>\n",
       "      <td>-1</td>\n",
       "      <td>-1</td>\n",
       "      <td>0</td>\n",
       "      <td>0</td>\n",
       "      <td>52</td>\n",
       "    </tr>\n",
       "  </tbody>\n",
       "</table>\n",
       "</div>"
      ],
      "text/plain": [
       "   x1  x2  e1  e2 a1 a2 RHS\n",
       "a1  7   2  -1   0  1  0  28\n",
       "a2  2  12   0  -1  0  1  24\n",
       "Z   9  14  -1  -1  0  0  52"
      ]
     },
     "metadata": {},
     "output_type": "display_data"
    },
    {
     "data": {
      "text/plain": [
       "'Pivot Column: x2'"
      ]
     },
     "metadata": {},
     "output_type": "display_data"
    },
    {
     "data": {
      "text/plain": [
       "'Pivot Row: a2'"
      ]
     },
     "metadata": {},
     "output_type": "display_data"
    },
    {
     "data": {
      "text/html": [
       "<div>\n",
       "<style scoped>\n",
       "    .dataframe tbody tr th:only-of-type {\n",
       "        vertical-align: middle;\n",
       "    }\n",
       "\n",
       "    .dataframe tbody tr th {\n",
       "        vertical-align: top;\n",
       "    }\n",
       "\n",
       "    .dataframe thead th {\n",
       "        text-align: right;\n",
       "    }\n",
       "</style>\n",
       "<table border=\"1\" class=\"dataframe\">\n",
       "  <thead>\n",
       "    <tr style=\"text-align: right;\">\n",
       "      <th></th>\n",
       "      <th>x1</th>\n",
       "      <th>x2</th>\n",
       "      <th>e1</th>\n",
       "      <th>e2</th>\n",
       "      <th>a1</th>\n",
       "      <th>a2</th>\n",
       "      <th>RHS</th>\n",
       "    </tr>\n",
       "  </thead>\n",
       "  <tbody>\n",
       "    <tr>\n",
       "      <th>a1</th>\n",
       "      <td>20/3</td>\n",
       "      <td>0</td>\n",
       "      <td>-1</td>\n",
       "      <td>1/6</td>\n",
       "      <td>1</td>\n",
       "      <td>-1/6</td>\n",
       "      <td>24</td>\n",
       "    </tr>\n",
       "    <tr>\n",
       "      <th>x2</th>\n",
       "      <td>1/6</td>\n",
       "      <td>1</td>\n",
       "      <td>0</td>\n",
       "      <td>-1/12</td>\n",
       "      <td>0</td>\n",
       "      <td>1/12</td>\n",
       "      <td>2</td>\n",
       "    </tr>\n",
       "    <tr>\n",
       "      <th>Z</th>\n",
       "      <td>20/3</td>\n",
       "      <td>0</td>\n",
       "      <td>-1</td>\n",
       "      <td>1/6</td>\n",
       "      <td>0</td>\n",
       "      <td>-7/6</td>\n",
       "      <td>24</td>\n",
       "    </tr>\n",
       "  </tbody>\n",
       "</table>\n",
       "</div>"
      ],
      "text/plain": [
       "      x1 x2  e1     e2 a1    a2 RHS\n",
       "a1  20/3  0  -1    1/6  1  -1/6  24\n",
       "x2   1/6  1   0  -1/12  0  1/12   2\n",
       "Z   20/3  0  -1    1/6  0  -7/6  24"
      ]
     },
     "metadata": {},
     "output_type": "display_data"
    },
    {
     "data": {
      "text/plain": [
       "'Pivot Column: x1'"
      ]
     },
     "metadata": {},
     "output_type": "display_data"
    },
    {
     "data": {
      "text/plain": [
       "'Pivot Row: a1'"
      ]
     },
     "metadata": {},
     "output_type": "display_data"
    },
    {
     "data": {
      "text/html": [
       "<div>\n",
       "<style scoped>\n",
       "    .dataframe tbody tr th:only-of-type {\n",
       "        vertical-align: middle;\n",
       "    }\n",
       "\n",
       "    .dataframe tbody tr th {\n",
       "        vertical-align: top;\n",
       "    }\n",
       "\n",
       "    .dataframe thead th {\n",
       "        text-align: right;\n",
       "    }\n",
       "</style>\n",
       "<table border=\"1\" class=\"dataframe\">\n",
       "  <thead>\n",
       "    <tr style=\"text-align: right;\">\n",
       "      <th></th>\n",
       "      <th>x1</th>\n",
       "      <th>x2</th>\n",
       "      <th>e1</th>\n",
       "      <th>e2</th>\n",
       "      <th>a1</th>\n",
       "      <th>a2</th>\n",
       "      <th>RHS</th>\n",
       "    </tr>\n",
       "  </thead>\n",
       "  <tbody>\n",
       "    <tr>\n",
       "      <th>x1</th>\n",
       "      <td>1</td>\n",
       "      <td>0</td>\n",
       "      <td>-3/20</td>\n",
       "      <td>1/40</td>\n",
       "      <td>3/20</td>\n",
       "      <td>-1/40</td>\n",
       "      <td>18/5</td>\n",
       "    </tr>\n",
       "    <tr>\n",
       "      <th>x2</th>\n",
       "      <td>0</td>\n",
       "      <td>1</td>\n",
       "      <td>1/40</td>\n",
       "      <td>-7/80</td>\n",
       "      <td>-1/40</td>\n",
       "      <td>7/80</td>\n",
       "      <td>7/5</td>\n",
       "    </tr>\n",
       "    <tr>\n",
       "      <th>Z</th>\n",
       "      <td>0</td>\n",
       "      <td>0</td>\n",
       "      <td>0</td>\n",
       "      <td>0</td>\n",
       "      <td>-1</td>\n",
       "      <td>-1</td>\n",
       "      <td>0</td>\n",
       "    </tr>\n",
       "  </tbody>\n",
       "</table>\n",
       "</div>"
      ],
      "text/plain": [
       "   x1 x2     e1     e2     a1     a2   RHS\n",
       "x1  1  0  -3/20   1/40   3/20  -1/40  18/5\n",
       "x2  0  1   1/40  -7/80  -1/40   7/80   7/5\n",
       "Z   0  0      0      0     -1     -1     0"
      ]
     },
     "metadata": {},
     "output_type": "display_data"
    },
    {
     "data": {
      "text/plain": [
       "\"Phase1 Solution: {'x1': 0, 'x2': 0, 'e1': 0, 'e2': 0, 'a1': 18/5, 'a2': 7/5}\""
      ]
     },
     "metadata": {},
     "output_type": "display_data"
    }
   ],
   "source": [
    "# First Phase Subproblem\n",
    "# Define the artificial variables\n",
    "a1, a2 = sp.symbols('a1 a2')\n",
    "\n",
    "# Convert the standard constraints to equations\n",
    "first_phase_constraints = [\n",
    "    Eq(7*x1 + 2*x2 - e1 + a1, 28),\n",
    "    Eq(2*x1 + 12*x2 - e2 + a2, 24),\n",
    "    x1 >= 0,\n",
    "    x2 >= 0,\n",
    "    e1 >= 0,\n",
    "    e2 >= 0,\n",
    "    a1 >= 0,\n",
    "    a2 >= 0\n",
    "]\n",
    "opdir_phase1 = 'min'\n",
    "objective_phase1 = a1 + a2\n",
    "\n",
    "# Print the first phase subproblem\n",
    "display(Math(opdir_phase1 + ' \\\\; Z = ' + sp.latex(objective_phase1)))\n",
    "display(Math('\\\\text{s.t. }' + sp.latex(first_phase_constraints)))\n",
    "\n",
    "# Create the simplex tableau\n",
    "Vars = [x1, x2, e1, e2, a1, a2]\n",
    "BVs = [a1, a2]\n",
    "phase1_tableau = create_simplex_tableau(first_phase_constraints[:-6], objective_phase1, Vars, BVs)\n",
    "display(phase1_tableau)\n",
    "\n",
    "# Adjusting the tableau to make z-coefficient of BVs zero\n",
    "# pivot_on(phase1_tableau, 0, 4)\n",
    "# pivot_on(phase1_tableau, 1, 5)\n",
    "phase1_tableau = adjust_tableau(phase1_tableau)\n",
    "display(\"Phase1: Adjusted Tableau\")\n",
    "display(phase1_tableau)\n",
    "\n",
    "# Phase1: Iterations\n",
    "while phase1_tableau.iloc[-1][:-1].max() > 0:\n",
    "    # Determine the pivot column\n",
    "    pivot_col = phase1_tableau.iloc[-1][:-1].argmax()\n",
    "    display(\"Pivot Column: \" + phase1_tableau.columns[pivot_col])\n",
    "    \n",
    "    # Determine the pivot row\n",
    "    ratios = phase1_tableau['RHS'] / phase1_tableau.iloc[:, pivot_col]\n",
    "    ratios = ratios[:-1]  # Exclude the last row\n",
    "    ratios = ratios.replace([np.inf, -np.inf, sp.oo, -sp.oo], np.nan)  # Treat division by zero and infinity as NaN\n",
    "    ratios = ratios.dropna()  # Exclude NaN values\n",
    "    ratios = ratios[ratios > 0]  # Only consider positive ratios\n",
    "    if ratios.empty:\n",
    "        display(\"No valid pivot row found.\")\n",
    "        break\n",
    "    pivot_row = phase1_tableau.index.get_loc(ratios.idxmin())\n",
    "    display(\"Pivot Row: \" + phase1_tableau.index[pivot_row])\n",
    "    \n",
    "    # Pivot on the element\n",
    "    phase1_tableau = pivot_on(phase1_tableau, pivot_row, pivot_col)\n",
    "    \n",
    "    # Display the tableau\n",
    "    display(phase1_tableau)\n",
    "    \n",
    "# Phase1: Optimal solution\n",
    "solution = retrieve_solution(phase1_tableau)\n",
    "display(\"Phase1 Solution: \" + str(solution))\n",
    "    \n",
    "    \n",
    "\n"
   ]
  },
  {
   "cell_type": "markdown",
   "metadata": {},
   "source": [
    "## Second Phase"
   ]
  },
  {
   "cell_type": "code",
   "execution_count": 10,
   "metadata": {},
   "outputs": [
    {
     "data": {
      "text/plain": [
       "'Phase2 Tableau:'"
      ]
     },
     "metadata": {},
     "output_type": "display_data"
    },
    {
     "data": {
      "text/html": [
       "<div>\n",
       "<style scoped>\n",
       "    .dataframe tbody tr th:only-of-type {\n",
       "        vertical-align: middle;\n",
       "    }\n",
       "\n",
       "    .dataframe tbody tr th {\n",
       "        vertical-align: top;\n",
       "    }\n",
       "\n",
       "    .dataframe thead th {\n",
       "        text-align: right;\n",
       "    }\n",
       "</style>\n",
       "<table border=\"1\" class=\"dataframe\">\n",
       "  <thead>\n",
       "    <tr style=\"text-align: right;\">\n",
       "      <th></th>\n",
       "      <th>x1</th>\n",
       "      <th>x2</th>\n",
       "      <th>e1</th>\n",
       "      <th>e2</th>\n",
       "      <th>RHS</th>\n",
       "    </tr>\n",
       "  </thead>\n",
       "  <tbody>\n",
       "    <tr>\n",
       "      <th>x1</th>\n",
       "      <td>1</td>\n",
       "      <td>0</td>\n",
       "      <td>-3/20</td>\n",
       "      <td>1/40</td>\n",
       "      <td>18/5</td>\n",
       "    </tr>\n",
       "    <tr>\n",
       "      <th>x2</th>\n",
       "      <td>0</td>\n",
       "      <td>1</td>\n",
       "      <td>1/40</td>\n",
       "      <td>-7/80</td>\n",
       "      <td>7/5</td>\n",
       "    </tr>\n",
       "    <tr>\n",
       "      <th>Z</th>\n",
       "      <td>-50</td>\n",
       "      <td>-100</td>\n",
       "      <td>0</td>\n",
       "      <td>0</td>\n",
       "      <td>0</td>\n",
       "    </tr>\n",
       "  </tbody>\n",
       "</table>\n",
       "</div>"
      ],
      "text/plain": [
       "     x1    x2     e1     e2   RHS\n",
       "x1    1     0  -3/20   1/40  18/5\n",
       "x2    0     1   1/40  -7/80   7/5\n",
       "Z   -50  -100      0      0     0"
      ]
     },
     "metadata": {},
     "output_type": "display_data"
    },
    {
     "data": {
      "text/plain": [
       "['x1', 'x2']"
      ]
     },
     "metadata": {},
     "output_type": "display_data"
    },
    {
     "data": {
      "text/plain": [
       "['x1', 'x2', 'e1', 'e2']"
      ]
     },
     "metadata": {},
     "output_type": "display_data"
    },
    {
     "data": {
      "text/plain": [
       "'Phase2: Adjusted Tableau'"
      ]
     },
     "metadata": {},
     "output_type": "display_data"
    },
    {
     "data": {
      "text/html": [
       "<div>\n",
       "<style scoped>\n",
       "    .dataframe tbody tr th:only-of-type {\n",
       "        vertical-align: middle;\n",
       "    }\n",
       "\n",
       "    .dataframe tbody tr th {\n",
       "        vertical-align: top;\n",
       "    }\n",
       "\n",
       "    .dataframe thead th {\n",
       "        text-align: right;\n",
       "    }\n",
       "</style>\n",
       "<table border=\"1\" class=\"dataframe\">\n",
       "  <thead>\n",
       "    <tr style=\"text-align: right;\">\n",
       "      <th></th>\n",
       "      <th>x1</th>\n",
       "      <th>x2</th>\n",
       "      <th>e1</th>\n",
       "      <th>e2</th>\n",
       "      <th>RHS</th>\n",
       "    </tr>\n",
       "  </thead>\n",
       "  <tbody>\n",
       "    <tr>\n",
       "      <th>x1</th>\n",
       "      <td>1</td>\n",
       "      <td>0</td>\n",
       "      <td>-3/20</td>\n",
       "      <td>1/40</td>\n",
       "      <td>18/5</td>\n",
       "    </tr>\n",
       "    <tr>\n",
       "      <th>x2</th>\n",
       "      <td>0</td>\n",
       "      <td>1</td>\n",
       "      <td>1/40</td>\n",
       "      <td>-7/80</td>\n",
       "      <td>7/5</td>\n",
       "    </tr>\n",
       "    <tr>\n",
       "      <th>Z</th>\n",
       "      <td>0</td>\n",
       "      <td>0</td>\n",
       "      <td>-5</td>\n",
       "      <td>-15/2</td>\n",
       "      <td>320</td>\n",
       "    </tr>\n",
       "  </tbody>\n",
       "</table>\n",
       "</div>"
      ],
      "text/plain": [
       "   x1 x2     e1     e2   RHS\n",
       "x1  1  0  -3/20   1/40  18/5\n",
       "x2  0  1   1/40  -7/80   7/5\n",
       "Z   0  0     -5  -15/2   320"
      ]
     },
     "metadata": {},
     "output_type": "display_data"
    },
    {
     "data": {
      "text/plain": [
       "'All coefficients of the objective function are non-positive'"
      ]
     },
     "metadata": {},
     "output_type": "display_data"
    },
    {
     "data": {
      "text/plain": [
       "'so the current solution is optimal.'"
      ]
     },
     "metadata": {},
     "output_type": "display_data"
    },
    {
     "data": {
      "text/plain": [
       "\"Phase2 Solution: {'x1': 0, 'x2': 0, 'e1': 0, 'e2': 0}\""
      ]
     },
     "metadata": {},
     "output_type": "display_data"
    }
   ],
   "source": [
    "phase2_tableau = phase1_tableau.drop(['a1', 'a2'], axis=1)\n",
    "\n",
    "# Replace the last row Z with the coefficients of the original objective function\n",
    "objective_coeffs = [-objective.coeff(var) for var in [x1, x2, e1, e2]]\n",
    "phase2_tableau.loc['Z'] = objective_coeffs + [0]\n",
    "display(\"Phase2 Tableau:\")\n",
    "display(phase2_tableau)\n",
    "\n",
    "# Adjusting the tableau to make z-coefficient of BVs zero\n",
    "phase2_tableau = adjust_tableau(phase2_tableau)\n",
    "display(\"Phase2: Adjusted Tableau\")\n",
    "display(phase2_tableau)\n",
    "\n",
    "display(\"All coefficients of the objective function are non-positive\", \"so the current solution is optimal.\")\n",
    "\n",
    "# Phase2 Solution\n",
    "solution = retrieve_solution(phase2_tableau)\n",
    "display(\"Phase2 Solution: \" + str(solution))"
   ]
  },
  {
   "cell_type": "markdown",
   "metadata": {},
   "source": [
    "## Conclusion\n",
    "\n",
    "The linear programming problem was successfully solved using the Simplex Method. The process involved defining the objective function and constraints, converting them to standard form, and solving the first and second phase subproblems. The optimal solution was found to be:\n",
    "\n",
    "- $ x1 = 0 $\n",
    "- $ x2 = 0 $\n",
    "- $ e1 = 0 $\n",
    "- $ e2 = 0 $\n",
    "\n",
    "This solution satisfies all the constraints and minimizes the objective function."
   ]
  }
 ],
 "metadata": {
  "kernelspec": {
   "display_name": "Python 3",
   "language": "python",
   "name": "python3"
  },
  "language_info": {
   "codemirror_mode": {
    "name": "ipython",
    "version": 3
   },
   "file_extension": ".py",
   "mimetype": "text/x-python",
   "name": "python",
   "nbconvert_exporter": "python",
   "pygments_lexer": "ipython3",
   "version": "3.12.3"
  }
 },
 "nbformat": 4,
 "nbformat_minor": 2
}
