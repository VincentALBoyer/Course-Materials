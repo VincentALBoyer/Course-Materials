{
 "cells": [
  {
   "cell_type": "markdown",
   "metadata": {},
   "source": [
    "# Introduction\n",
    "\n",
    "Scheduling patients in a day hospital using a clinical pathway is crucial for optimizing the diagnosis and treatment process. A clinical pathway outlines the sequence of appointments and procedures that a patient must undergo. Efficient scheduling ensures that patients receive timely care, reducing waiting times and improving overall satisfaction.\n",
    "\n",
    "In this analysis, we will examine the results stored in the `Results` folder, where a Linear Optimization Model has been used to schedule patients based on a set Quality of Service (QoS) criteria. The QoS is related to the relative waiting time of the patient. A QoS of 100% indicates that the patient never waits between appointments in their clinical pathway, while a QoS of 0% means there is no limitation on the waiting time between appointments within the planning horizon (one day).\n",
    "\n",
    "The hypothesis we want to  consider is that the number of patients attended by the hospital is correlated to the set quality of services. To make such analysis we want to generate a heat map of the average number of attended patients within a scenario versus the QoS. This will allow to visualize, this correlation if it exists. \n",
    "\n"
   ]
  },
  {
   "cell_type": "markdown",
   "metadata": {},
   "source": [
    "\n",
    "# Data Description\n",
    "\n",
    "The data used in this analysis is generated from a series of simulations aimed at optimizing patient scheduling in a day hospital. The results are stored in text files within the `Results` folder. Each file contains information about the number of patients, their target Quality of Service (QoS), and the actual QoS achieved after scheduling.\n",
    "\n",
    "## Data Contents\n",
    "\n",
    "- **Target_QoS**: The desired Quality of Service level set for the simulation.\n",
    "- **P_Init**: The initial number of patients requiring appointments.\n",
    "- **P_Final**: The number of patients who were successfully attended to.\n",
    "- **QoS_Final**: The final Quality of Service level achieved after scheduling.\n",
    "\n",
    "The data is read from the text files and stored in a DataFrame for further analysis. The DataFrame is then grouped by the initial number of patients and the target QoS to calculate the average values for each group. This allows us to analyze the relationship between the target QoS and the number of patients attended.\n",
    "```"
   ]
  },
  {
   "cell_type": "code",
   "execution_count": 54,
   "metadata": {},
   "outputs": [
    {
     "name": "stdout",
     "output_type": "stream",
     "text": [
      "Result_Simulation_100.txt\n",
      "Result_Simulation_0.txt\n",
      "Result_Simulation_25.txt\n",
      "Result_Simulation_50.txt\n",
      "Result_Simulation_75.txt\n",
      "    Initial_Patient  Target_QoS  Attented_Patient  QoS_Final  Perc_Attended\n",
      "0              20.0         0.0              19.4   62.63095       0.970000\n",
      "1              20.0        25.0              19.4   63.10625       0.970000\n",
      "2              20.0        50.0              19.4   65.66300       0.970000\n",
      "3              20.0        75.0              19.4   77.47100       0.970000\n",
      "4              20.0       100.0              18.7   97.51190       0.935000\n",
      "5              30.0         0.0              28.1   45.89805       0.936667\n",
      "6              30.0        25.0              28.1   46.21115       0.936667\n",
      "7              30.0        50.0              28.2   53.18370       0.940000\n",
      "8              30.0        75.0              27.5   68.76675       0.916667\n",
      "9              30.0       100.0              23.9   93.92645       0.796667\n",
      "10             40.0         0.0              35.1   41.79195       0.877500\n",
      "11             40.0        25.0              35.0   43.05145       0.875000\n",
      "12             40.0        50.0              34.8   52.54355       0.870000\n",
      "13             40.0        75.0              32.6   68.19590       0.815000\n",
      "14             40.0       100.0              26.8   95.32710       0.670000\n"
     ]
    }
   ],
   "source": [
    "#We are going to read the results from the text files and store them in a DataFrame.\n",
    "import os\n",
    "import pandas as pd\n",
    "\n",
    "# Define the path to the results folder\n",
    "results_folder = 'Results'\n",
    "\n",
    "# Initialize an empty list to store the data\n",
    "data = []\n",
    "\n",
    "# Loop through the files in the results folder\n",
    "for file_name in os.listdir(results_folder):\n",
    "    if file_name.endswith('.txt'):\n",
    "        print(file_name)\n",
    "        # Extract the number of patients from the file name\n",
    "        target_qos = int(file_name.split('_')[2].split('.')[0])\n",
    "        \n",
    "        # Load the data from the text file\n",
    "        with open(os.path.join(results_folder, file_name), 'r') as file:\n",
    "            lines = file.readlines()\n",
    "            headers = lines[0].split()\n",
    "            i_targetqos= headers.index('Target_QoS')\n",
    "            i_initial_patient = headers.index('#_Patient')\n",
    "            i_attented_patient = headers.index('#P_Init')\n",
    "            i_QoS_Final= headers.index('QoS_Final')\n",
    "            i_Target_QoS = headers.index('Target_QoS')\n",
    "           \n",
    "            lines = lines[1:]\n",
    "            for line in lines:\n",
    "                # Assuming the text file has QoS and PatientsAttended separated by a space\n",
    "                splitdata = line.split()\n",
    "                try:\n",
    "                    # Convert only numeric values to float\n",
    "                    splitdata = [float(value) if value.replace('.', '', 1).isdigit() else value for value in splitdata]\n",
    "                except ValueError as e:\n",
    "                    print(f\"Error converting line to float: {e}\")\n",
    "                \n",
    "                data.append({'Target_QoS': splitdata[i_Target_QoS], 'Initial_Patient': splitdata[i_initial_patient], 'Attented_Patient': splitdata[i_attented_patient], 'QoS_Final': splitdata[i_QoS_Final]})\n",
    "\n",
    "# Create a DataFrame from the data\n",
    "results_df = pd.DataFrame(data)\n",
    "\n",
    "results_df = results_df.groupby(['Initial_Patient', 'Target_QoS']).mean()\n",
    "\n",
    "results_df.reset_index(inplace=True)\n",
    "\n",
    "results_df['Perc_Attended'] = results_df['Attented_Patient'] / results_df['Initial_Patient']\n",
    "\n",
    "\n",
    "# Display the DataFrame\n",
    "print(results_df)"
   ]
  },
  {
   "cell_type": "markdown",
   "metadata": {},
   "source": [
    "Now that we have the dataframe with the results grouped by target QoS and the number of patients requiring an appointment, we will create a heat map to verify our hypothesis. The heat map will help us visualize the relationship between these variables and identify any patterns or correlations. By doing so, we can better understand how the target QoS and the number of patients impact each other and make more informed decisions based on this analysis."
   ]
  },
  {
   "cell_type": "code",
   "execution_count": 55,
   "metadata": {},
   "outputs": [
    {
     "name": "stdout",
     "output_type": "stream",
     "text": [
      "   Initial_Patient  Target_QoS  Attented_Patient  QoS_Final  Perc_Attended\n",
      "0             20.0         0.0              19.4   62.63095          0.970\n",
      "1             20.0        25.0              19.4   63.10625          0.970\n",
      "2             20.0        50.0              19.4   65.66300          0.970\n",
      "3             20.0        75.0              19.4   77.47100          0.970\n",
      "4             20.0       100.0              18.7   97.51190          0.935\n",
      "0.97\n"
     ]
    },
    {
     "data": {
      "image/png": "[encoded data removed]",
      "text/plain": [
       "<Figure size 640x480 with 2 Axes>"
      ]
     },
     "metadata": {},
     "output_type": "display_data"
    }
   ],
   "source": [
    "# We now use the DataFrame to plot the results with matplotlib\n",
    "import matplotlib.pyplot as plt\n",
    "\n",
    "# Plot the results\n",
    "# results_df.unstack().plot(kind='line', y='QoS_Final')\n",
    "# plt.title('QoS Final vs Initial Patients')\n",
    "# plt.xlabel('Initial Patients')\n",
    "# plt.ylabel('QoS Final')\n",
    "# plt.show()\n",
    "\n",
    "# Now we do the heat map of the attented patients vs the target QoS for the different initial patients\n",
    "\n",
    "# Plot the results\n",
    "print(results_df.head())\n",
    "print(max(results_df['Perc_Attended']))\n",
    "plt.hist2d(results_df['Initial_Patient'], results_df['Target_QoS'], bins=(3, 5), weights=results_df['Perc_Attended'])\n",
    "plt.colorbar()\n",
    "plt.title('Heatmap of Percentage of Attended Patients')\n",
    "plt.xlabel('Initial Patients')\n",
    "x_ticks = results_df['Initial_Patient'].unique()\n",
    "x_tick_labels = ['', '20', '', '30', '', '40']\n",
    "plt.xticks(results_df['Initial_Patient'].unique())\n",
    "plt.ylabel('Target QoS')\n",
    "plt.yticks(results_df['Target_QoS'].unique())\n",
    "plt.show()\n",
    "\n",
    "\n"
   ]
  },
  {
   "cell_type": "markdown",
   "metadata": {},
   "source": [
    "\n",
    "# Design Choices in Relation to Cairo's Principles\n",
    "\n",
    "## Truthfulness\n",
    "The heatmap accurately represents the data collected from the results of the Linear Optimization Model. Each cell in the heatmap corresponds to the percentage of attended patients for a given initial patient count and target QoS. The color intensity directly correlates with the percentage values, ensuring that the visual representation is truthful and not misleading.\n",
    "\n",
    "## Beauty\n",
    "The heatmap is designed with a clear and aesthetically pleasing color gradient that helps in distinguishing different levels of patient attendance. The choice of colors is such that it provides a smooth transition from low to high values, making the visual appealing and easy to interpret. The title and labels are appropriately sized and positioned to enhance readability without cluttering the visual.\n",
    "\n",
    "## Functionality\n",
    "The heatmap is functional in that it allows for quick identification of trends and patterns in the data. The axes are labeled with the initial patient count and target QoS, and the color bar provides a reference for the percentage of attended patients. This design ensures that the viewer can easily understand the relationship between the variables without needing additional explanations.\n",
    "\n",
    "## Insightfulness\n",
    "The heatmap provides insights into how the target QoS and initial patient count impact the percentage of attended patients. By visualizing the data in this manner, it becomes evident that higher QoS levels tend to result in lower attendance rates, and that there is an optimal range of QoS levels where attendance is maximized. This insight can help hospital administrators make informed decisions about patient scheduling and service quality optimization.\n",
    "```"
   ]
  },
  {
   "cell_type": "markdown",
   "metadata": {},
   "source": [
    "\n",
    "# Conclusion\n",
    "\n",
    "The heatmap generated from the data provides a visual representation of the correlation between the percentage of attended patients and the set Quality of Service (QoS). From the heatmap, we can observe the following trends:\n",
    "\n",
    "1. **Higher QoS Leads to Lower Attendance**: As the target QoS increases, the percentage of attended patients tends to decrease. This is evident from the lower values in the heatmap for higher QoS levels, indicating that stricter QoS criteria may result in fewer patients being attended.\n",
    "\n",
    "2. **Initial Patient Count Impact**: The initial number of patients also plays a significant role in the percentage of attended patients. For lower initial patient counts, the percentage of attended patients is generally higher, while for higher initial patient counts, the percentage tends to be lower.\n",
    "\n",
    "3. **Optimal QoS Levels**: There appears to be an optimal range of QoS levels where the percentage of attended patients is maximized. This range can be identified by the higher values in the heatmap, suggesting that there is a balance between providing high-quality service and attending to a larger number of patients.\n",
    "\n",
    "Overall, the heatmap helps to visualize the trade-offs between the set QoS and the number of patients attended. By analyzing these patterns, hospital administrators can make more informed decisions to optimize patient scheduling and improve overall service quality.\n",
    "```"
   ]
  }
 ],
 "metadata": {
  "kernelspec": {
   "display_name": "Python 3",
   "language": "python",
   "name": "python3"
  },
  "language_info": {
   "codemirror_mode": {
    "name": "ipython",
    "version": 3
   },
   "file_extension": ".py",
   "mimetype": "text/x-python",
   "name": "python",
   "nbconvert_exporter": "python",
   "pygments_lexer": "ipython3",
   "version": "3.8.10"
  }
 },
 "nbformat": 4,
 "nbformat_minor": 2
}
